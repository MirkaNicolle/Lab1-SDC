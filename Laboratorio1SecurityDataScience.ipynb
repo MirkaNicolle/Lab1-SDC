{
  "cells": [
    {
      "cell_type": "markdown",
      "id": "bef99d29-8cb3-429a-a782-4a925bd37da5",
      "metadata": {
        "id": "bef99d29-8cb3-429a-a782-4a925bd37da5"
      },
      "source": [
        "## Security Data Science\n",
        "### Laboratorio 1\n"
      ]
    },
    {
      "cell_type": "code",
      "execution_count": null,
      "id": "0ccfb896-7e51-43ba-af9b-8268116342af",
      "metadata": {
        "id": "0ccfb896-7e51-43ba-af9b-8268116342af"
      },
      "outputs": [],
      "source": [
        "import re\n",
        "import pandas as pd\n",
        "import pandas_profiling\n",
        "import numpy as np\n",
        "import matplotlib.pyplot as plt\n",
        "%matplotlib inline\n",
        "import seaborn as sns\n",
        "from sklearn import feature_extraction, tree, model_selection, metrics\n",
        "from sklearn.model_selection import train_test_split\n",
        "from urllib.parse import urlparse\n",
        "\n",
        "from sklearn.model_selection import train_test_split, cross_val_score, cross_validate\n",
        "from sklearn.ensemble import RandomForestClassifier\n",
        "from sklearn.metrics import confusion_matrix, precision_score, recall_score, f1_score, classification_report, accuracy_score"
      ]
    },
    {
      "cell_type": "code",
      "source": [
        "def url_info(url):\n",
        "    parsed_url = urlparse(url)\n",
        "    return parsed_url.hostname, parsed_url.scheme\n",
        "\n",
        "\n",
        "def conteo(a):\n",
        "    return lambda s: sum(s.count(b) for b in a)"
      ],
      "metadata": {
        "id": "_dapfHgvRTCY"
      },
      "id": "_dapfHgvRTCY",
      "execution_count": null,
      "outputs": []
    },
    {
      "cell_type": "markdown",
      "id": "d67d56a8-3244-4017-b9e3-7745b5b516a0",
      "metadata": {
        "id": "d67d56a8-3244-4017-b9e3-7745b5b516a0"
      },
      "source": [
        "#### Carga del dataset"
      ]
    },
    {
      "cell_type": "code",
      "execution_count": null,
      "id": "5b981c13-90ae-4ca0-8b72-da6f6f7981e2",
      "metadata": {
        "id": "5b981c13-90ae-4ca0-8b72-da6f6f7981e2"
      },
      "outputs": [],
      "source": [
        "data = pd.read_csv ('dataset_pishing.csv')"
      ]
    },
    {
      "cell_type": "markdown",
      "id": "3aefeb58-a0d7-4b76-b200-25d5aa1260c1",
      "metadata": {
        "id": "3aefeb58-a0d7-4b76-b200-25d5aa1260c1"
      },
      "source": [
        "#### Muestra las primeras 5 lineas"
      ]
    },
    {
      "cell_type": "code",
      "source": [
        "data.info()"
      ],
      "metadata": {
        "colab": {
          "base_uri": "https://localhost:8080/"
        },
        "id": "lN9d6ZYjREkG",
        "outputId": "b34f2263-79bd-4878-bc33-b8106fcbbf78"
      },
      "id": "lN9d6ZYjREkG",
      "execution_count": null,
      "outputs": [
        {
          "output_type": "stream",
          "name": "stdout",
          "text": [
            "<class 'pandas.core.frame.DataFrame'>\n",
            "RangeIndex: 11430 entries, 0 to 11429\n",
            "Data columns (total 67 columns):\n",
            " #   Column                      Non-Null Count  Dtype  \n",
            "---  ------                      --------------  -----  \n",
            " 0   url                         11430 non-null  object \n",
            " 1   ip                          11430 non-null  int64  \n",
            " 2   nb_www                      11430 non-null  int64  \n",
            " 3   nb_com                      11430 non-null  int64  \n",
            " 4   nb_dslash                   11430 non-null  int64  \n",
            " 5   http_in_path                11430 non-null  int64  \n",
            " 6   punycode                    11430 non-null  int64  \n",
            " 7   port                        11430 non-null  int64  \n",
            " 8   tld_in_path                 11430 non-null  int64  \n",
            " 9   tld_in_subdomain            11430 non-null  int64  \n",
            " 10  abnormal_subdomain          11430 non-null  int64  \n",
            " 11  nb_subdomains               11430 non-null  int64  \n",
            " 12  prefix_suffix               11430 non-null  int64  \n",
            " 13  random_domain               11430 non-null  int64  \n",
            " 14  shortening_service          11430 non-null  int64  \n",
            " 15  path_extension              11430 non-null  int64  \n",
            " 16  nb_redirection              11430 non-null  int64  \n",
            " 17  nb_external_redirection     11430 non-null  int64  \n",
            " 18  length_words_raw            11430 non-null  int64  \n",
            " 19  char_repeat                 11430 non-null  int64  \n",
            " 20  shortest_words_raw          11430 non-null  int64  \n",
            " 21  shortest_word_host          11430 non-null  int64  \n",
            " 22  shortest_word_path          11430 non-null  int64  \n",
            " 23  longest_words_raw           11430 non-null  int64  \n",
            " 24  longest_word_host           11430 non-null  int64  \n",
            " 25  longest_word_path           11430 non-null  int64  \n",
            " 26  avg_words_raw               11430 non-null  float64\n",
            " 27  avg_word_host               11430 non-null  float64\n",
            " 28  avg_word_path               11430 non-null  float64\n",
            " 29  phish_hints                 11430 non-null  int64  \n",
            " 30  domain_in_brand             11430 non-null  int64  \n",
            " 31  brand_in_subdomain          11430 non-null  int64  \n",
            " 32  brand_in_path               11430 non-null  int64  \n",
            " 33  suspecious_tld              11430 non-null  int64  \n",
            " 34  statistical_report          11430 non-null  int64  \n",
            " 35  nb_hyperlinks               11430 non-null  int64  \n",
            " 36  ratio_intHyperlinks         11430 non-null  float64\n",
            " 37  ratio_extHyperlinks         11430 non-null  float64\n",
            " 38  ratio_nullHyperlinks        11430 non-null  int64  \n",
            " 39  nb_extCSS                   11430 non-null  int64  \n",
            " 40  ratio_intRedirection        11430 non-null  int64  \n",
            " 41  ratio_extRedirection        11430 non-null  float64\n",
            " 42  ratio_intErrors             11430 non-null  int64  \n",
            " 43  ratio_extErrors             11430 non-null  float64\n",
            " 44  login_form                  11430 non-null  int64  \n",
            " 45  external_favicon            11430 non-null  int64  \n",
            " 46  links_in_tags               11430 non-null  float64\n",
            " 47  submit_email                11430 non-null  int64  \n",
            " 48  ratio_intMedia              11430 non-null  float64\n",
            " 49  ratio_extMedia              11430 non-null  float64\n",
            " 50  sfh                         11430 non-null  int64  \n",
            " 51  iframe                      11430 non-null  int64  \n",
            " 52  popup_window                11430 non-null  int64  \n",
            " 53  safe_anchor                 11430 non-null  float64\n",
            " 54  onmouseover                 11430 non-null  int64  \n",
            " 55  right_clic                  11430 non-null  int64  \n",
            " 56  empty_title                 11430 non-null  int64  \n",
            " 57  domain_in_title             11430 non-null  int64  \n",
            " 58  domain_with_copyright       11430 non-null  int64  \n",
            " 59  whois_registered_domain     11430 non-null  int64  \n",
            " 60  domain_registration_length  11430 non-null  int64  \n",
            " 61  domain_age                  11430 non-null  int64  \n",
            " 62  web_traffic                 11430 non-null  int64  \n",
            " 63  dns_record                  11430 non-null  int64  \n",
            " 64  google_index                11430 non-null  int64  \n",
            " 65  page_rank                   11430 non-null  int64  \n",
            " 66  status                      11430 non-null  object \n",
            "dtypes: float64(11), int64(54), object(2)\n",
            "memory usage: 5.8+ MB\n"
          ]
        }
      ]
    },
    {
      "cell_type": "code",
      "execution_count": null,
      "id": "4a068044-0660-4aef-bc58-e8f8c6e2cda3",
      "metadata": {
        "colab": {
          "base_uri": "https://localhost:8080/",
          "height": 334
        },
        "id": "4a068044-0660-4aef-bc58-e8f8c6e2cda3",
        "outputId": "0f9583da-d174-4cf7-f566-14fa0171aa43"
      },
      "outputs": [
        {
          "output_type": "execute_result",
          "data": {
            "text/plain": [
              "                                                 url  ip  nb_www  nb_com  \\\n",
              "0              http://www.crestonwood.com/router.php   0       1       0   \n",
              "1  http://shadetreetechnology.com/V4/validation/a...   1       0       0   \n",
              "2  https://support-appleld.com.secureupdate.duila...   1       0       1   \n",
              "3                                 http://rgipt.ac.in   0       0       0   \n",
              "4  http://www.iracing.com/tracks/gateway-motorspo...   0       1       0   \n",
              "\n",
              "   nb_dslash  http_in_path  punycode  port  tld_in_path  tld_in_subdomain  \\\n",
              "0          0             0         0     0            0                 0   \n",
              "1          0             0         0     0            0                 0   \n",
              "2          0             0         0     0            0                 1   \n",
              "3          0             0         0     0            0                 0   \n",
              "4          0             0         0     0            0                 0   \n",
              "\n",
              "   ...  domain_in_title  domain_with_copyright  whois_registered_domain  \\\n",
              "0  ...                0                      1                        0   \n",
              "1  ...                1                      0                        0   \n",
              "2  ...                1                      0                        0   \n",
              "3  ...                1                      0                        0   \n",
              "4  ...                0                      1                        0   \n",
              "\n",
              "   domain_registration_length  domain_age  web_traffic  dns_record  \\\n",
              "0                          45          -1            0           1   \n",
              "1                          77        5767            0           0   \n",
              "2                          14        4004      5828815           0   \n",
              "3                          62          -1       107721           0   \n",
              "4                         224        8175         8725           0   \n",
              "\n",
              "   google_index  page_rank      status  \n",
              "0             1          4  legitimate  \n",
              "1             1          2    phishing  \n",
              "2             1          0    phishing  \n",
              "3             0          3  legitimate  \n",
              "4             0          6  legitimate  \n",
              "\n",
              "[5 rows x 67 columns]"
            ],
            "text/html": [
              "\n",
              "  <div id=\"df-73869179-5b1d-4045-a723-65d1d764bea4\">\n",
              "    <div class=\"colab-df-container\">\n",
              "      <div>\n",
              "<style scoped>\n",
              "    .dataframe tbody tr th:only-of-type {\n",
              "        vertical-align: middle;\n",
              "    }\n",
              "\n",
              "    .dataframe tbody tr th {\n",
              "        vertical-align: top;\n",
              "    }\n",
              "\n",
              "    .dataframe thead th {\n",
              "        text-align: right;\n",
              "    }\n",
              "</style>\n",
              "<table border=\"1\" class=\"dataframe\">\n",
              "  <thead>\n",
              "    <tr style=\"text-align: right;\">\n",
              "      <th></th>\n",
              "      <th>url</th>\n",
              "      <th>ip</th>\n",
              "      <th>nb_www</th>\n",
              "      <th>nb_com</th>\n",
              "      <th>nb_dslash</th>\n",
              "      <th>http_in_path</th>\n",
              "      <th>punycode</th>\n",
              "      <th>port</th>\n",
              "      <th>tld_in_path</th>\n",
              "      <th>tld_in_subdomain</th>\n",
              "      <th>...</th>\n",
              "      <th>domain_in_title</th>\n",
              "      <th>domain_with_copyright</th>\n",
              "      <th>whois_registered_domain</th>\n",
              "      <th>domain_registration_length</th>\n",
              "      <th>domain_age</th>\n",
              "      <th>web_traffic</th>\n",
              "      <th>dns_record</th>\n",
              "      <th>google_index</th>\n",
              "      <th>page_rank</th>\n",
              "      <th>status</th>\n",
              "    </tr>\n",
              "  </thead>\n",
              "  <tbody>\n",
              "    <tr>\n",
              "      <th>0</th>\n",
              "      <td>http://www.crestonwood.com/router.php</td>\n",
              "      <td>0</td>\n",
              "      <td>1</td>\n",
              "      <td>0</td>\n",
              "      <td>0</td>\n",
              "      <td>0</td>\n",
              "      <td>0</td>\n",
              "      <td>0</td>\n",
              "      <td>0</td>\n",
              "      <td>0</td>\n",
              "      <td>...</td>\n",
              "      <td>0</td>\n",
              "      <td>1</td>\n",
              "      <td>0</td>\n",
              "      <td>45</td>\n",
              "      <td>-1</td>\n",
              "      <td>0</td>\n",
              "      <td>1</td>\n",
              "      <td>1</td>\n",
              "      <td>4</td>\n",
              "      <td>legitimate</td>\n",
              "    </tr>\n",
              "    <tr>\n",
              "      <th>1</th>\n",
              "      <td>http://shadetreetechnology.com/V4/validation/a...</td>\n",
              "      <td>1</td>\n",
              "      <td>0</td>\n",
              "      <td>0</td>\n",
              "      <td>0</td>\n",
              "      <td>0</td>\n",
              "      <td>0</td>\n",
              "      <td>0</td>\n",
              "      <td>0</td>\n",
              "      <td>0</td>\n",
              "      <td>...</td>\n",
              "      <td>1</td>\n",
              "      <td>0</td>\n",
              "      <td>0</td>\n",
              "      <td>77</td>\n",
              "      <td>5767</td>\n",
              "      <td>0</td>\n",
              "      <td>0</td>\n",
              "      <td>1</td>\n",
              "      <td>2</td>\n",
              "      <td>phishing</td>\n",
              "    </tr>\n",
              "    <tr>\n",
              "      <th>2</th>\n",
              "      <td>https://support-appleld.com.secureupdate.duila...</td>\n",
              "      <td>1</td>\n",
              "      <td>0</td>\n",
              "      <td>1</td>\n",
              "      <td>0</td>\n",
              "      <td>0</td>\n",
              "      <td>0</td>\n",
              "      <td>0</td>\n",
              "      <td>0</td>\n",
              "      <td>1</td>\n",
              "      <td>...</td>\n",
              "      <td>1</td>\n",
              "      <td>0</td>\n",
              "      <td>0</td>\n",
              "      <td>14</td>\n",
              "      <td>4004</td>\n",
              "      <td>5828815</td>\n",
              "      <td>0</td>\n",
              "      <td>1</td>\n",
              "      <td>0</td>\n",
              "      <td>phishing</td>\n",
              "    </tr>\n",
              "    <tr>\n",
              "      <th>3</th>\n",
              "      <td>http://rgipt.ac.in</td>\n",
              "      <td>0</td>\n",
              "      <td>0</td>\n",
              "      <td>0</td>\n",
              "      <td>0</td>\n",
              "      <td>0</td>\n",
              "      <td>0</td>\n",
              "      <td>0</td>\n",
              "      <td>0</td>\n",
              "      <td>0</td>\n",
              "      <td>...</td>\n",
              "      <td>1</td>\n",
              "      <td>0</td>\n",
              "      <td>0</td>\n",
              "      <td>62</td>\n",
              "      <td>-1</td>\n",
              "      <td>107721</td>\n",
              "      <td>0</td>\n",
              "      <td>0</td>\n",
              "      <td>3</td>\n",
              "      <td>legitimate</td>\n",
              "    </tr>\n",
              "    <tr>\n",
              "      <th>4</th>\n",
              "      <td>http://www.iracing.com/tracks/gateway-motorspo...</td>\n",
              "      <td>0</td>\n",
              "      <td>1</td>\n",
              "      <td>0</td>\n",
              "      <td>0</td>\n",
              "      <td>0</td>\n",
              "      <td>0</td>\n",
              "      <td>0</td>\n",
              "      <td>0</td>\n",
              "      <td>0</td>\n",
              "      <td>...</td>\n",
              "      <td>0</td>\n",
              "      <td>1</td>\n",
              "      <td>0</td>\n",
              "      <td>224</td>\n",
              "      <td>8175</td>\n",
              "      <td>8725</td>\n",
              "      <td>0</td>\n",
              "      <td>0</td>\n",
              "      <td>6</td>\n",
              "      <td>legitimate</td>\n",
              "    </tr>\n",
              "  </tbody>\n",
              "</table>\n",
              "<p>5 rows × 67 columns</p>\n",
              "</div>\n",
              "      <button class=\"colab-df-convert\" onclick=\"convertToInteractive('df-73869179-5b1d-4045-a723-65d1d764bea4')\"\n",
              "              title=\"Convert this dataframe to an interactive table.\"\n",
              "              style=\"display:none;\">\n",
              "        \n",
              "  <svg xmlns=\"http://www.w3.org/2000/svg\" height=\"24px\"viewBox=\"0 0 24 24\"\n",
              "       width=\"24px\">\n",
              "    <path d=\"M0 0h24v24H0V0z\" fill=\"none\"/>\n",
              "    <path d=\"M18.56 5.44l.94 2.06.94-2.06 2.06-.94-2.06-.94-.94-2.06-.94 2.06-2.06.94zm-11 1L8.5 8.5l.94-2.06 2.06-.94-2.06-.94L8.5 2.5l-.94 2.06-2.06.94zm10 10l.94 2.06.94-2.06 2.06-.94-2.06-.94-.94-2.06-.94 2.06-2.06.94z\"/><path d=\"M17.41 7.96l-1.37-1.37c-.4-.4-.92-.59-1.43-.59-.52 0-1.04.2-1.43.59L10.3 9.45l-7.72 7.72c-.78.78-.78 2.05 0 2.83L4 21.41c.39.39.9.59 1.41.59.51 0 1.02-.2 1.41-.59l7.78-7.78 2.81-2.81c.8-.78.8-2.07 0-2.86zM5.41 20L4 18.59l7.72-7.72 1.47 1.35L5.41 20z\"/>\n",
              "  </svg>\n",
              "      </button>\n",
              "      \n",
              "  <style>\n",
              "    .colab-df-container {\n",
              "      display:flex;\n",
              "      flex-wrap:wrap;\n",
              "      gap: 12px;\n",
              "    }\n",
              "\n",
              "    .colab-df-convert {\n",
              "      background-color: #E8F0FE;\n",
              "      border: none;\n",
              "      border-radius: 50%;\n",
              "      cursor: pointer;\n",
              "      display: none;\n",
              "      fill: #1967D2;\n",
              "      height: 32px;\n",
              "      padding: 0 0 0 0;\n",
              "      width: 32px;\n",
              "    }\n",
              "\n",
              "    .colab-df-convert:hover {\n",
              "      background-color: #E2EBFA;\n",
              "      box-shadow: 0px 1px 2px rgba(60, 64, 67, 0.3), 0px 1px 3px 1px rgba(60, 64, 67, 0.15);\n",
              "      fill: #174EA6;\n",
              "    }\n",
              "\n",
              "    [theme=dark] .colab-df-convert {\n",
              "      background-color: #3B4455;\n",
              "      fill: #D2E3FC;\n",
              "    }\n",
              "\n",
              "    [theme=dark] .colab-df-convert:hover {\n",
              "      background-color: #434B5C;\n",
              "      box-shadow: 0px 1px 3px 1px rgba(0, 0, 0, 0.15);\n",
              "      filter: drop-shadow(0px 1px 2px rgba(0, 0, 0, 0.3));\n",
              "      fill: #FFFFFF;\n",
              "    }\n",
              "  </style>\n",
              "\n",
              "      <script>\n",
              "        const buttonEl =\n",
              "          document.querySelector('#df-73869179-5b1d-4045-a723-65d1d764bea4 button.colab-df-convert');\n",
              "        buttonEl.style.display =\n",
              "          google.colab.kernel.accessAllowed ? 'block' : 'none';\n",
              "\n",
              "        async function convertToInteractive(key) {\n",
              "          const element = document.querySelector('#df-73869179-5b1d-4045-a723-65d1d764bea4');\n",
              "          const dataTable =\n",
              "            await google.colab.kernel.invokeFunction('convertToInteractive',\n",
              "                                                     [key], {});\n",
              "          if (!dataTable) return;\n",
              "\n",
              "          const docLinkHtml = 'Like what you see? Visit the ' +\n",
              "            '<a target=\"_blank\" href=https://colab.research.google.com/notebooks/data_table.ipynb>data table notebook</a>'\n",
              "            + ' to learn more about interactive tables.';\n",
              "          element.innerHTML = '';\n",
              "          dataTable['output_type'] = 'display_data';\n",
              "          await google.colab.output.renderOutput(dataTable, element);\n",
              "          const docLink = document.createElement('div');\n",
              "          docLink.innerHTML = docLinkHtml;\n",
              "          element.appendChild(docLink);\n",
              "        }\n",
              "      </script>\n",
              "    </div>\n",
              "  </div>\n",
              "  "
            ]
          },
          "metadata": {},
          "execution_count": 50
        }
      ],
      "source": [
        "data.head()"
      ]
    },
    {
      "cell_type": "markdown",
      "id": "b6800ac5-f93d-4296-93e4-b40e2c837296",
      "metadata": {
        "id": "b6800ac5-f93d-4296-93e4-b40e2c837296"
      },
      "source": [
        "#### Muestra la cuenta de observaciones en la columna de estatus"
      ]
    },
    {
      "cell_type": "code",
      "execution_count": null,
      "id": "cfb01693-548c-4d4a-bd16-cf41c355c68c",
      "metadata": {
        "colab": {
          "base_uri": "https://localhost:8080/"
        },
        "id": "cfb01693-548c-4d4a-bd16-cf41c355c68c",
        "outputId": "4f773e53-ed8b-48e8-dc6c-509d946a632e"
      },
      "outputs": [
        {
          "output_type": "execute_result",
          "data": {
            "text/plain": [
              "legitimate    5715\n",
              "phishing      5715\n",
              "Name: status, dtype: int64"
            ]
          },
          "metadata": {},
          "execution_count": 51
        }
      ],
      "source": [
        "data['status'].value_counts()"
      ]
    },
    {
      "cell_type": "markdown",
      "id": "0d805049-98fa-4cca-bc76-0f1b15d05ddd",
      "metadata": {
        "id": "0d805049-98fa-4cca-bc76-0f1b15d05ddd"
      },
      "source": [
        "Con el resultado podemos ver que el dataset esta balanceado, por la cantidad de url's que son marcadas como pshing como legitimos."
      ]
    },
    {
      "cell_type": "markdown",
      "source": [
        "###**Derivacion**"
      ],
      "metadata": {
        "id": "Li3ZPfk-Ydqk"
      },
      "id": "Li3ZPfk-Ydqk"
    },
    {
      "cell_type": "markdown",
      "id": "d9b70862",
      "metadata": {
        "id": "d9b70862"
      },
      "source": [
        "#### F1 y F2\n",
        "\n"
      ]
    },
    {
      "cell_type": "code",
      "execution_count": null,
      "id": "dde243b4",
      "metadata": {
        "id": "dde243b4"
      },
      "outputs": [],
      "source": [
        "data['url_len'] = data['url'].apply(len)"
      ]
    },
    {
      "cell_type": "code",
      "execution_count": null,
      "id": "2eb6ebcf",
      "metadata": {
        "id": "2eb6ebcf"
      },
      "outputs": [],
      "source": [
        "data['hostname'], data['scheme'] = zip(*data['url'].apply(url_info))\n",
        "data['hostname_len'] = data['hostname'].apply(len)"
      ]
    },
    {
      "cell_type": "markdown",
      "id": "66c44d20",
      "metadata": {
        "id": "66c44d20"
      },
      "source": [
        "#### f4 - f20\n"
      ]
    },
    {
      "cell_type": "code",
      "execution_count": null,
      "id": "730155eb",
      "metadata": {
        "id": "730155eb"
      },
      "outputs": [],
      "source": [
        "caracteres = ['.','-','@','?','&','|','=','_',' ̃','%','/','*',':',',',';','$']\n",
        "espacios = ['%20', ' '] \n",
        "\n",
        "for caracter in caracteres:\n",
        "    data[f'{caracter}_count'] = data['url'].apply(conteo(caracter))\n",
        "\n",
        "data['space_count'] = data['url'].apply(conteo(espacios))"
      ]
    },
    {
      "cell_type": "markdown",
      "id": "aa9aa656",
      "metadata": {
        "id": "aa9aa656"
      },
      "source": [
        "#### f25\n"
      ]
    },
    {
      "cell_type": "code",
      "execution_count": null,
      "id": "0db14f67",
      "metadata": {
        "id": "0db14f67"
      },
      "outputs": [],
      "source": [
        "data['is_https'] = data['scheme'].apply(lambda scheme: int(scheme.lower() == 'https'))"
      ]
    },
    {
      "cell_type": "markdown",
      "id": "3a1948ba",
      "metadata": {
        "id": "3a1948ba"
      },
      "source": [
        "#### f26 -f27\n"
      ]
    },
    {
      "cell_type": "code",
      "execution_count": null,
      "id": "b42a09fc",
      "metadata": {
        "id": "b42a09fc"
      },
      "outputs": [],
      "source": [
        "rDigits = lambda s: sum(c.isdigit() for c in s) / sum(not c.isdigit() for c in s)\n",
        "data['digit_ratio_url'] = data['url'].apply(rDigits)\n"
      ]
    },
    {
      "cell_type": "code",
      "execution_count": null,
      "id": "9600cc97",
      "metadata": {
        "id": "9600cc97"
      },
      "outputs": [],
      "source": [
        "data['digit_ratio_hostname'] = data['url'].apply(rDigits)"
      ]
    },
    {
      "cell_type": "markdown",
      "id": "9df56404-b4db-4b47-b346-0543cf09c9c3",
      "metadata": {
        "id": "9df56404-b4db-4b47-b346-0543cf09c9c3"
      },
      "source": [
        "#### Mostrar las primeras 5 lienas luego de la transformacion"
      ]
    },
    {
      "cell_type": "code",
      "execution_count": null,
      "id": "e2bef74d-2f40-4b3b-865f-74456132fd31",
      "metadata": {
        "colab": {
          "base_uri": "https://localhost:8080/",
          "height": 334
        },
        "id": "e2bef74d-2f40-4b3b-865f-74456132fd31",
        "outputId": "8da718f2-6421-4ee4-ad0b-a5d1b01bd20d"
      },
      "outputs": [
        {
          "output_type": "execute_result",
          "data": {
            "text/plain": [
              "                                                 url  ip  nb_www  nb_com  \\\n",
              "0              http://www.crestonwood.com/router.php   0       1       0   \n",
              "1  http://shadetreetechnology.com/V4/validation/a...   1       0       0   \n",
              "2  https://support-appleld.com.secureupdate.duila...   1       0       1   \n",
              "3                                 http://rgipt.ac.in   0       0       0   \n",
              "4  http://www.iracing.com/tracks/gateway-motorspo...   0       1       0   \n",
              "\n",
              "   nb_dslash  http_in_path  punycode  port  tld_in_path  tld_in_subdomain  \\\n",
              "0          0             0         0     0            0                 0   \n",
              "1          0             0         0     0            0                 0   \n",
              "2          0             0         0     0            0                 1   \n",
              "3          0             0         0     0            0                 0   \n",
              "4          0             0         0     0            0                 0   \n",
              "\n",
              "   ...  /_count  *_count  :_count  ,_count  ;_count  $_count  space_count  \\\n",
              "0  ...        3        0        1        0        0        0            0   \n",
              "1  ...        5        0        1        0        0        0            0   \n",
              "2  ...        5        0        1        0        0        0            0   \n",
              "3  ...        2        0        1        0        0        0            0   \n",
              "4  ...        5        0        1        0        0        0            0   \n",
              "\n",
              "   is_https  digit_ratio_url  digit_ratio_hostname  \n",
              "0         0         0.000000              0.000000  \n",
              "1         0         0.283333              0.283333  \n",
              "2         1         0.177570              0.177570  \n",
              "3         0         0.000000              0.000000  \n",
              "4         0         0.000000              0.000000  \n",
              "\n",
              "[5 rows x 91 columns]"
            ],
            "text/html": [
              "\n",
              "  <div id=\"df-46964666-8610-4d26-992e-43e033466459\">\n",
              "    <div class=\"colab-df-container\">\n",
              "      <div>\n",
              "<style scoped>\n",
              "    .dataframe tbody tr th:only-of-type {\n",
              "        vertical-align: middle;\n",
              "    }\n",
              "\n",
              "    .dataframe tbody tr th {\n",
              "        vertical-align: top;\n",
              "    }\n",
              "\n",
              "    .dataframe thead th {\n",
              "        text-align: right;\n",
              "    }\n",
              "</style>\n",
              "<table border=\"1\" class=\"dataframe\">\n",
              "  <thead>\n",
              "    <tr style=\"text-align: right;\">\n",
              "      <th></th>\n",
              "      <th>url</th>\n",
              "      <th>ip</th>\n",
              "      <th>nb_www</th>\n",
              "      <th>nb_com</th>\n",
              "      <th>nb_dslash</th>\n",
              "      <th>http_in_path</th>\n",
              "      <th>punycode</th>\n",
              "      <th>port</th>\n",
              "      <th>tld_in_path</th>\n",
              "      <th>tld_in_subdomain</th>\n",
              "      <th>...</th>\n",
              "      <th>/_count</th>\n",
              "      <th>*_count</th>\n",
              "      <th>:_count</th>\n",
              "      <th>,_count</th>\n",
              "      <th>;_count</th>\n",
              "      <th>$_count</th>\n",
              "      <th>space_count</th>\n",
              "      <th>is_https</th>\n",
              "      <th>digit_ratio_url</th>\n",
              "      <th>digit_ratio_hostname</th>\n",
              "    </tr>\n",
              "  </thead>\n",
              "  <tbody>\n",
              "    <tr>\n",
              "      <th>0</th>\n",
              "      <td>http://www.crestonwood.com/router.php</td>\n",
              "      <td>0</td>\n",
              "      <td>1</td>\n",
              "      <td>0</td>\n",
              "      <td>0</td>\n",
              "      <td>0</td>\n",
              "      <td>0</td>\n",
              "      <td>0</td>\n",
              "      <td>0</td>\n",
              "      <td>0</td>\n",
              "      <td>...</td>\n",
              "      <td>3</td>\n",
              "      <td>0</td>\n",
              "      <td>1</td>\n",
              "      <td>0</td>\n",
              "      <td>0</td>\n",
              "      <td>0</td>\n",
              "      <td>0</td>\n",
              "      <td>0</td>\n",
              "      <td>0.000000</td>\n",
              "      <td>0.000000</td>\n",
              "    </tr>\n",
              "    <tr>\n",
              "      <th>1</th>\n",
              "      <td>http://shadetreetechnology.com/V4/validation/a...</td>\n",
              "      <td>1</td>\n",
              "      <td>0</td>\n",
              "      <td>0</td>\n",
              "      <td>0</td>\n",
              "      <td>0</td>\n",
              "      <td>0</td>\n",
              "      <td>0</td>\n",
              "      <td>0</td>\n",
              "      <td>0</td>\n",
              "      <td>...</td>\n",
              "      <td>5</td>\n",
              "      <td>0</td>\n",
              "      <td>1</td>\n",
              "      <td>0</td>\n",
              "      <td>0</td>\n",
              "      <td>0</td>\n",
              "      <td>0</td>\n",
              "      <td>0</td>\n",
              "      <td>0.283333</td>\n",
              "      <td>0.283333</td>\n",
              "    </tr>\n",
              "    <tr>\n",
              "      <th>2</th>\n",
              "      <td>https://support-appleld.com.secureupdate.duila...</td>\n",
              "      <td>1</td>\n",
              "      <td>0</td>\n",
              "      <td>1</td>\n",
              "      <td>0</td>\n",
              "      <td>0</td>\n",
              "      <td>0</td>\n",
              "      <td>0</td>\n",
              "      <td>0</td>\n",
              "      <td>1</td>\n",
              "      <td>...</td>\n",
              "      <td>5</td>\n",
              "      <td>0</td>\n",
              "      <td>1</td>\n",
              "      <td>0</td>\n",
              "      <td>0</td>\n",
              "      <td>0</td>\n",
              "      <td>0</td>\n",
              "      <td>1</td>\n",
              "      <td>0.177570</td>\n",
              "      <td>0.177570</td>\n",
              "    </tr>\n",
              "    <tr>\n",
              "      <th>3</th>\n",
              "      <td>http://rgipt.ac.in</td>\n",
              "      <td>0</td>\n",
              "      <td>0</td>\n",
              "      <td>0</td>\n",
              "      <td>0</td>\n",
              "      <td>0</td>\n",
              "      <td>0</td>\n",
              "      <td>0</td>\n",
              "      <td>0</td>\n",
              "      <td>0</td>\n",
              "      <td>...</td>\n",
              "      <td>2</td>\n",
              "      <td>0</td>\n",
              "      <td>1</td>\n",
              "      <td>0</td>\n",
              "      <td>0</td>\n",
              "      <td>0</td>\n",
              "      <td>0</td>\n",
              "      <td>0</td>\n",
              "      <td>0.000000</td>\n",
              "      <td>0.000000</td>\n",
              "    </tr>\n",
              "    <tr>\n",
              "      <th>4</th>\n",
              "      <td>http://www.iracing.com/tracks/gateway-motorspo...</td>\n",
              "      <td>0</td>\n",
              "      <td>1</td>\n",
              "      <td>0</td>\n",
              "      <td>0</td>\n",
              "      <td>0</td>\n",
              "      <td>0</td>\n",
              "      <td>0</td>\n",
              "      <td>0</td>\n",
              "      <td>0</td>\n",
              "      <td>...</td>\n",
              "      <td>5</td>\n",
              "      <td>0</td>\n",
              "      <td>1</td>\n",
              "      <td>0</td>\n",
              "      <td>0</td>\n",
              "      <td>0</td>\n",
              "      <td>0</td>\n",
              "      <td>0</td>\n",
              "      <td>0.000000</td>\n",
              "      <td>0.000000</td>\n",
              "    </tr>\n",
              "  </tbody>\n",
              "</table>\n",
              "<p>5 rows × 91 columns</p>\n",
              "</div>\n",
              "      <button class=\"colab-df-convert\" onclick=\"convertToInteractive('df-46964666-8610-4d26-992e-43e033466459')\"\n",
              "              title=\"Convert this dataframe to an interactive table.\"\n",
              "              style=\"display:none;\">\n",
              "        \n",
              "  <svg xmlns=\"http://www.w3.org/2000/svg\" height=\"24px\"viewBox=\"0 0 24 24\"\n",
              "       width=\"24px\">\n",
              "    <path d=\"M0 0h24v24H0V0z\" fill=\"none\"/>\n",
              "    <path d=\"M18.56 5.44l.94 2.06.94-2.06 2.06-.94-2.06-.94-.94-2.06-.94 2.06-2.06.94zm-11 1L8.5 8.5l.94-2.06 2.06-.94-2.06-.94L8.5 2.5l-.94 2.06-2.06.94zm10 10l.94 2.06.94-2.06 2.06-.94-2.06-.94-.94-2.06-.94 2.06-2.06.94z\"/><path d=\"M17.41 7.96l-1.37-1.37c-.4-.4-.92-.59-1.43-.59-.52 0-1.04.2-1.43.59L10.3 9.45l-7.72 7.72c-.78.78-.78 2.05 0 2.83L4 21.41c.39.39.9.59 1.41.59.51 0 1.02-.2 1.41-.59l7.78-7.78 2.81-2.81c.8-.78.8-2.07 0-2.86zM5.41 20L4 18.59l7.72-7.72 1.47 1.35L5.41 20z\"/>\n",
              "  </svg>\n",
              "      </button>\n",
              "      \n",
              "  <style>\n",
              "    .colab-df-container {\n",
              "      display:flex;\n",
              "      flex-wrap:wrap;\n",
              "      gap: 12px;\n",
              "    }\n",
              "\n",
              "    .colab-df-convert {\n",
              "      background-color: #E8F0FE;\n",
              "      border: none;\n",
              "      border-radius: 50%;\n",
              "      cursor: pointer;\n",
              "      display: none;\n",
              "      fill: #1967D2;\n",
              "      height: 32px;\n",
              "      padding: 0 0 0 0;\n",
              "      width: 32px;\n",
              "    }\n",
              "\n",
              "    .colab-df-convert:hover {\n",
              "      background-color: #E2EBFA;\n",
              "      box-shadow: 0px 1px 2px rgba(60, 64, 67, 0.3), 0px 1px 3px 1px rgba(60, 64, 67, 0.15);\n",
              "      fill: #174EA6;\n",
              "    }\n",
              "\n",
              "    [theme=dark] .colab-df-convert {\n",
              "      background-color: #3B4455;\n",
              "      fill: #D2E3FC;\n",
              "    }\n",
              "\n",
              "    [theme=dark] .colab-df-convert:hover {\n",
              "      background-color: #434B5C;\n",
              "      box-shadow: 0px 1px 3px 1px rgba(0, 0, 0, 0.15);\n",
              "      filter: drop-shadow(0px 1px 2px rgba(0, 0, 0, 0.3));\n",
              "      fill: #FFFFFF;\n",
              "    }\n",
              "  </style>\n",
              "\n",
              "      <script>\n",
              "        const buttonEl =\n",
              "          document.querySelector('#df-46964666-8610-4d26-992e-43e033466459 button.colab-df-convert');\n",
              "        buttonEl.style.display =\n",
              "          google.colab.kernel.accessAllowed ? 'block' : 'none';\n",
              "\n",
              "        async function convertToInteractive(key) {\n",
              "          const element = document.querySelector('#df-46964666-8610-4d26-992e-43e033466459');\n",
              "          const dataTable =\n",
              "            await google.colab.kernel.invokeFunction('convertToInteractive',\n",
              "                                                     [key], {});\n",
              "          if (!dataTable) return;\n",
              "\n",
              "          const docLinkHtml = 'Like what you see? Visit the ' +\n",
              "            '<a target=\"_blank\" href=https://colab.research.google.com/notebooks/data_table.ipynb>data table notebook</a>'\n",
              "            + ' to learn more about interactive tables.';\n",
              "          element.innerHTML = '';\n",
              "          dataTable['output_type'] = 'display_data';\n",
              "          await google.colab.output.renderOutput(dataTable, element);\n",
              "          const docLink = document.createElement('div');\n",
              "          docLink.innerHTML = docLinkHtml;\n",
              "          element.appendChild(docLink);\n",
              "        }\n",
              "      </script>\n",
              "    </div>\n",
              "  </div>\n",
              "  "
            ]
          },
          "metadata": {},
          "execution_count": 58
        }
      ],
      "source": [
        "data.head()"
      ]
    },
    {
      "cell_type": "markdown",
      "id": "093b1188-b5a6-4d9c-8db0-889603955ffd",
      "metadata": {
        "id": "093b1188-b5a6-4d9c-8db0-889603955ffd"
      },
      "source": [
        "#### Pre-procesamiento del dataset"
      ]
    },
    {
      "cell_type": "code",
      "execution_count": null,
      "id": "e8b3b00c-00c0-4311-b384-6a849b6cee02",
      "metadata": {
        "id": "e8b3b00c-00c0-4311-b384-6a849b6cee02"
      },
      "outputs": [],
      "source": [
        "data['status'] = np.where(data['status'] == 'phishing', 1, 0)"
      ]
    },
    {
      "cell_type": "code",
      "execution_count": null,
      "id": "5f7699c9-7b96-4c58-b7fd-029cce784eed",
      "metadata": {
        "id": "5f7699c9-7b96-4c58-b7fd-029cce784eed"
      },
      "outputs": [],
      "source": [
        "data = data.drop(['url'], axis=1)"
      ]
    },
    {
      "cell_type": "markdown",
      "id": "c588ad96-74a4-4451-8f34-3c45884e862b",
      "metadata": {
        "id": "c588ad96-74a4-4451-8f34-3c45884e862b"
      },
      "source": [
        "#### Pandas Profiling"
      ]
    },
    {
      "cell_type": "code",
      "execution_count": null,
      "id": "b150884a-e4ad-46c2-97d4-80d045254dce",
      "metadata": {
        "colab": {
          "base_uri": "https://localhost:8080/",
          "height": 321
        },
        "id": "b150884a-e4ad-46c2-97d4-80d045254dce",
        "outputId": "1e1f618e-9c24-412b-96da-c8176b4d53e5"
      },
      "outputs": [
        {
          "output_type": "error",
          "ename": "AttributeError",
          "evalue": "ignored",
          "traceback": [
            "\u001b[0;31m---------------------------------------------------------------------------\u001b[0m",
            "\u001b[0;31mAttributeError\u001b[0m                            Traceback (most recent call last)",
            "\u001b[0;32m<ipython-input-61-3295ed9b7513>\u001b[0m in \u001b[0;36m<module>\u001b[0;34m\u001b[0m\n\u001b[0;32m----> 1\u001b[0;31m \u001b[0mprofile\u001b[0m \u001b[0;34m=\u001b[0m \u001b[0mdata\u001b[0m\u001b[0;34m.\u001b[0m\u001b[0mprofile_report\u001b[0m\u001b[0;34m(\u001b[0m\u001b[0mtitle\u001b[0m\u001b[0;34m=\u001b[0m\u001b[0;34m\"Phishing dataset Report\"\u001b[0m\u001b[0;34m)\u001b[0m\u001b[0;34m\u001b[0m\u001b[0;34m\u001b[0m\u001b[0m\n\u001b[0m\u001b[1;32m      2\u001b[0m \u001b[0mprofile\u001b[0m\u001b[0;34m.\u001b[0m\u001b[0mto_file\u001b[0m\u001b[0;34m(\u001b[0m\u001b[0moutput_file\u001b[0m\u001b[0;34m=\u001b[0m\u001b[0;34m\"lab1_pandas_report.html\"\u001b[0m\u001b[0;34m)\u001b[0m\u001b[0;34m\u001b[0m\u001b[0;34m\u001b[0m\u001b[0m\n",
            "\u001b[0;32m/usr/local/lib/python3.8/dist-packages/pandas/core/generic.py\u001b[0m in \u001b[0;36m__getattr__\u001b[0;34m(self, name)\u001b[0m\n\u001b[1;32m   5485\u001b[0m         ):\n\u001b[1;32m   5486\u001b[0m             \u001b[0;32mreturn\u001b[0m \u001b[0mself\u001b[0m\u001b[0;34m[\u001b[0m\u001b[0mname\u001b[0m\u001b[0;34m]\u001b[0m\u001b[0;34m\u001b[0m\u001b[0;34m\u001b[0m\u001b[0m\n\u001b[0;32m-> 5487\u001b[0;31m         \u001b[0;32mreturn\u001b[0m \u001b[0mobject\u001b[0m\u001b[0;34m.\u001b[0m\u001b[0m__getattribute__\u001b[0m\u001b[0;34m(\u001b[0m\u001b[0mself\u001b[0m\u001b[0;34m,\u001b[0m \u001b[0mname\u001b[0m\u001b[0;34m)\u001b[0m\u001b[0;34m\u001b[0m\u001b[0;34m\u001b[0m\u001b[0m\n\u001b[0m\u001b[1;32m   5488\u001b[0m \u001b[0;34m\u001b[0m\u001b[0m\n\u001b[1;32m   5489\u001b[0m     \u001b[0;32mdef\u001b[0m \u001b[0m__setattr__\u001b[0m\u001b[0;34m(\u001b[0m\u001b[0mself\u001b[0m\u001b[0;34m,\u001b[0m \u001b[0mname\u001b[0m\u001b[0;34m:\u001b[0m \u001b[0mstr\u001b[0m\u001b[0;34m,\u001b[0m \u001b[0mvalue\u001b[0m\u001b[0;34m)\u001b[0m \u001b[0;34m->\u001b[0m \u001b[0;32mNone\u001b[0m\u001b[0;34m:\u001b[0m\u001b[0;34m\u001b[0m\u001b[0;34m\u001b[0m\u001b[0m\n",
            "\u001b[0;31mAttributeError\u001b[0m: 'DataFrame' object has no attribute 'profile_report'"
          ]
        }
      ],
      "source": [
        "profile = data.profile_report(title=\"Phishing dataset Report\")\n",
        "profile.to_file(output_file=\"lab1_pandas_report.html\")"
      ]
    },
    {
      "cell_type": "code",
      "source": [
        "sns.heatmap(data.corr())"
      ],
      "metadata": {
        "colab": {
          "base_uri": "https://localhost:8080/",
          "height": 394
        },
        "id": "iO0tbM28SJ8H",
        "outputId": "fb8a4c3a-7cc4-4174-a63c-6969e9ed9ae8"
      },
      "id": "iO0tbM28SJ8H",
      "execution_count": null,
      "outputs": [
        {
          "output_type": "execute_result",
          "data": {
            "text/plain": [
              "<matplotlib.axes._subplots.AxesSubplot at 0x7f26f1bbcb20>"
            ]
          },
          "metadata": {},
          "execution_count": 62
        },
        {
          "output_type": "display_data",
          "data": {
            "text/plain": [
              "<Figure size 432x288 with 2 Axes>"
            ],
            "image/png": "[encoded data removed]"
          },
          "metadata": {
            "needs_background": "light"
          }
        }
      ]
    },
    {
      "cell_type": "markdown",
      "source": [
        "Ya que no se logro utilzar Pandas Profaling, se opto por utilizar una matriz de confusion, aqui se muestra que no hay relacion con status."
      ],
      "metadata": {
        "id": "f5oOtJsobuq5"
      },
      "id": "f5oOtJsobuq5"
    },
    {
      "cell_type": "markdown",
      "id": "5ff2b1c7",
      "metadata": {
        "id": "5ff2b1c7"
      },
      "source": [
        "#### Seleccion de caracteristicas"
      ]
    },
    {
      "cell_type": "markdown",
      "id": "719a91da",
      "metadata": {
        "id": "719a91da"
      },
      "source": [
        "En base a la matriz de confusion, se pudieron identificar caracteristicas relevantes, son las siguientes: \n",
        "\n",
        "- ratio_intHyperlinks\n",
        "- ratio_extHyperlinks\n",
        "- domain_age\n",
        "- web_traffic\n",
        "- page_rank\n",
        "- url_len\n",
        "- hostname_len\n",
        "- space_count\n",
        "- digit_ratio_url\n",
        "- status\n",
        "- nb_www\n",
        "- phish_hints\n",
        "- nb_hyperlinks\n",
        "- length_words_raw\n",
        "- domain_in_title"
      ]
    },
    {
      "cell_type": "code",
      "execution_count": null,
      "id": "5fb9959a",
      "metadata": {
        "id": "5fb9959a"
      },
      "outputs": [],
      "source": [
        "data = data[['status','nb_www', 'phish_hints', 'nb_hyperlinks', 'length_words_raw', 'domain_in_title', 'ratio_intHyperlinks', 'ratio_extHyperlinks', 'domain_age', 'web_traffic', 'page_rank', 'url_len', 'hostname_len', 'space_count', 'digit_ratio_url']]\n"
      ]
    },
    {
      "cell_type": "code",
      "execution_count": null,
      "id": "b923ef82",
      "metadata": {
        "colab": {
          "base_uri": "https://localhost:8080/",
          "height": 487
        },
        "id": "b923ef82",
        "outputId": "87e47f77-5c94-41d2-cf17-744e67dfb9be"
      },
      "outputs": [
        {
          "output_type": "execute_result",
          "data": {
            "text/plain": [
              "       status  nb_www  phish_hints  nb_hyperlinks  length_words_raw  \\\n",
              "0           0       1            0             17                 4   \n",
              "1           1       0            0             30                 4   \n",
              "2           1       0            0              4                12   \n",
              "3           0       0            0            149                 1   \n",
              "4           0       1            0            102                 6   \n",
              "...       ...     ...          ...            ...               ...   \n",
              "11425       0       1            0            199                 4   \n",
              "11426       1       1            0              3                12   \n",
              "11427       0       1            0             68                13   \n",
              "11428       0       1            0             32                 2   \n",
              "11429       1       1            3             21                90   \n",
              "\n",
              "       domain_in_title  ratio_intHyperlinks  ratio_extHyperlinks  domain_age  \\\n",
              "0                    0             0.529412             0.470588          -1   \n",
              "1                    1             0.966667             0.033333        5767   \n",
              "2                    1             1.000000             0.000000        4004   \n",
              "3                    1             0.973154             0.026846          -1   \n",
              "4                    0             0.470588             0.529412        8175   \n",
              "...                ...                  ...                  ...         ...   \n",
              "11425                0             0.884422             0.115578        5396   \n",
              "11426                1             1.000000             0.000000        6728   \n",
              "11427                0             0.470588             0.529412        8515   \n",
              "11428                1             0.375000             0.625000        2836   \n",
              "11429                1             0.428571             0.571429          -1   \n",
              "\n",
              "       web_traffic  page_rank  url_len  hostname_len  space_count  \\\n",
              "0                0          4       37            19            0   \n",
              "1                0          2       77            23            0   \n",
              "2          5828815          0      126            50            0   \n",
              "3           107721          3       18            11            0   \n",
              "4             8725          6       55            15            0   \n",
              "...            ...        ...      ...           ...          ...   \n",
              "11425         3980          6       45            17            0   \n",
              "11426            0          0       84            18            1   \n",
              "11427            8         10      105            16            0   \n",
              "11428      2455493          4       38            30            0   \n",
              "11429            0          0      477            14            0   \n",
              "\n",
              "       digit_ratio_url  \n",
              "0             0.000000  \n",
              "1             0.283333  \n",
              "2             0.177570  \n",
              "3             0.000000  \n",
              "4             0.000000  \n",
              "...                ...  \n",
              "11425         0.000000  \n",
              "11426         0.024390  \n",
              "11427         0.166667  \n",
              "11428         0.000000  \n",
              "11429         0.094037  \n",
              "\n",
              "[11027 rows x 15 columns]"
            ],
            "text/html": [
              "\n",
              "  <div id=\"df-c417df30-ae08-413c-b91a-cc651d5bb4f0\">\n",
              "    <div class=\"colab-df-container\">\n",
              "      <div>\n",
              "<style scoped>\n",
              "    .dataframe tbody tr th:only-of-type {\n",
              "        vertical-align: middle;\n",
              "    }\n",
              "\n",
              "    .dataframe tbody tr th {\n",
              "        vertical-align: top;\n",
              "    }\n",
              "\n",
              "    .dataframe thead th {\n",
              "        text-align: right;\n",
              "    }\n",
              "</style>\n",
              "<table border=\"1\" class=\"dataframe\">\n",
              "  <thead>\n",
              "    <tr style=\"text-align: right;\">\n",
              "      <th></th>\n",
              "      <th>status</th>\n",
              "      <th>nb_www</th>\n",
              "      <th>phish_hints</th>\n",
              "      <th>nb_hyperlinks</th>\n",
              "      <th>length_words_raw</th>\n",
              "      <th>domain_in_title</th>\n",
              "      <th>ratio_intHyperlinks</th>\n",
              "      <th>ratio_extHyperlinks</th>\n",
              "      <th>domain_age</th>\n",
              "      <th>web_traffic</th>\n",
              "      <th>page_rank</th>\n",
              "      <th>url_len</th>\n",
              "      <th>hostname_len</th>\n",
              "      <th>space_count</th>\n",
              "      <th>digit_ratio_url</th>\n",
              "    </tr>\n",
              "  </thead>\n",
              "  <tbody>\n",
              "    <tr>\n",
              "      <th>0</th>\n",
              "      <td>0</td>\n",
              "      <td>1</td>\n",
              "      <td>0</td>\n",
              "      <td>17</td>\n",
              "      <td>4</td>\n",
              "      <td>0</td>\n",
              "      <td>0.529412</td>\n",
              "      <td>0.470588</td>\n",
              "      <td>-1</td>\n",
              "      <td>0</td>\n",
              "      <td>4</td>\n",
              "      <td>37</td>\n",
              "      <td>19</td>\n",
              "      <td>0</td>\n",
              "      <td>0.000000</td>\n",
              "    </tr>\n",
              "    <tr>\n",
              "      <th>1</th>\n",
              "      <td>1</td>\n",
              "      <td>0</td>\n",
              "      <td>0</td>\n",
              "      <td>30</td>\n",
              "      <td>4</td>\n",
              "      <td>1</td>\n",
              "      <td>0.966667</td>\n",
              "      <td>0.033333</td>\n",
              "      <td>5767</td>\n",
              "      <td>0</td>\n",
              "      <td>2</td>\n",
              "      <td>77</td>\n",
              "      <td>23</td>\n",
              "      <td>0</td>\n",
              "      <td>0.283333</td>\n",
              "    </tr>\n",
              "    <tr>\n",
              "      <th>2</th>\n",
              "      <td>1</td>\n",
              "      <td>0</td>\n",
              "      <td>0</td>\n",
              "      <td>4</td>\n",
              "      <td>12</td>\n",
              "      <td>1</td>\n",
              "      <td>1.000000</td>\n",
              "      <td>0.000000</td>\n",
              "      <td>4004</td>\n",
              "      <td>5828815</td>\n",
              "      <td>0</td>\n",
              "      <td>126</td>\n",
              "      <td>50</td>\n",
              "      <td>0</td>\n",
              "      <td>0.177570</td>\n",
              "    </tr>\n",
              "    <tr>\n",
              "      <th>3</th>\n",
              "      <td>0</td>\n",
              "      <td>0</td>\n",
              "      <td>0</td>\n",
              "      <td>149</td>\n",
              "      <td>1</td>\n",
              "      <td>1</td>\n",
              "      <td>0.973154</td>\n",
              "      <td>0.026846</td>\n",
              "      <td>-1</td>\n",
              "      <td>107721</td>\n",
              "      <td>3</td>\n",
              "      <td>18</td>\n",
              "      <td>11</td>\n",
              "      <td>0</td>\n",
              "      <td>0.000000</td>\n",
              "    </tr>\n",
              "    <tr>\n",
              "      <th>4</th>\n",
              "      <td>0</td>\n",
              "      <td>1</td>\n",
              "      <td>0</td>\n",
              "      <td>102</td>\n",
              "      <td>6</td>\n",
              "      <td>0</td>\n",
              "      <td>0.470588</td>\n",
              "      <td>0.529412</td>\n",
              "      <td>8175</td>\n",
              "      <td>8725</td>\n",
              "      <td>6</td>\n",
              "      <td>55</td>\n",
              "      <td>15</td>\n",
              "      <td>0</td>\n",
              "      <td>0.000000</td>\n",
              "    </tr>\n",
              "    <tr>\n",
              "      <th>...</th>\n",
              "      <td>...</td>\n",
              "      <td>...</td>\n",
              "      <td>...</td>\n",
              "      <td>...</td>\n",
              "      <td>...</td>\n",
              "      <td>...</td>\n",
              "      <td>...</td>\n",
              "      <td>...</td>\n",
              "      <td>...</td>\n",
              "      <td>...</td>\n",
              "      <td>...</td>\n",
              "      <td>...</td>\n",
              "      <td>...</td>\n",
              "      <td>...</td>\n",
              "      <td>...</td>\n",
              "    </tr>\n",
              "    <tr>\n",
              "      <th>11425</th>\n",
              "      <td>0</td>\n",
              "      <td>1</td>\n",
              "      <td>0</td>\n",
              "      <td>199</td>\n",
              "      <td>4</td>\n",
              "      <td>0</td>\n",
              "      <td>0.884422</td>\n",
              "      <td>0.115578</td>\n",
              "      <td>5396</td>\n",
              "      <td>3980</td>\n",
              "      <td>6</td>\n",
              "      <td>45</td>\n",
              "      <td>17</td>\n",
              "      <td>0</td>\n",
              "      <td>0.000000</td>\n",
              "    </tr>\n",
              "    <tr>\n",
              "      <th>11426</th>\n",
              "      <td>1</td>\n",
              "      <td>1</td>\n",
              "      <td>0</td>\n",
              "      <td>3</td>\n",
              "      <td>12</td>\n",
              "      <td>1</td>\n",
              "      <td>1.000000</td>\n",
              "      <td>0.000000</td>\n",
              "      <td>6728</td>\n",
              "      <td>0</td>\n",
              "      <td>0</td>\n",
              "      <td>84</td>\n",
              "      <td>18</td>\n",
              "      <td>1</td>\n",
              "      <td>0.024390</td>\n",
              "    </tr>\n",
              "    <tr>\n",
              "      <th>11427</th>\n",
              "      <td>0</td>\n",
              "      <td>1</td>\n",
              "      <td>0</td>\n",
              "      <td>68</td>\n",
              "      <td>13</td>\n",
              "      <td>0</td>\n",
              "      <td>0.470588</td>\n",
              "      <td>0.529412</td>\n",
              "      <td>8515</td>\n",
              "      <td>8</td>\n",
              "      <td>10</td>\n",
              "      <td>105</td>\n",
              "      <td>16</td>\n",
              "      <td>0</td>\n",
              "      <td>0.166667</td>\n",
              "    </tr>\n",
              "    <tr>\n",
              "      <th>11428</th>\n",
              "      <td>0</td>\n",
              "      <td>1</td>\n",
              "      <td>0</td>\n",
              "      <td>32</td>\n",
              "      <td>2</td>\n",
              "      <td>1</td>\n",
              "      <td>0.375000</td>\n",
              "      <td>0.625000</td>\n",
              "      <td>2836</td>\n",
              "      <td>2455493</td>\n",
              "      <td>4</td>\n",
              "      <td>38</td>\n",
              "      <td>30</td>\n",
              "      <td>0</td>\n",
              "      <td>0.000000</td>\n",
              "    </tr>\n",
              "    <tr>\n",
              "      <th>11429</th>\n",
              "      <td>1</td>\n",
              "      <td>1</td>\n",
              "      <td>3</td>\n",
              "      <td>21</td>\n",
              "      <td>90</td>\n",
              "      <td>1</td>\n",
              "      <td>0.428571</td>\n",
              "      <td>0.571429</td>\n",
              "      <td>-1</td>\n",
              "      <td>0</td>\n",
              "      <td>0</td>\n",
              "      <td>477</td>\n",
              "      <td>14</td>\n",
              "      <td>0</td>\n",
              "      <td>0.094037</td>\n",
              "    </tr>\n",
              "  </tbody>\n",
              "</table>\n",
              "<p>11027 rows × 15 columns</p>\n",
              "</div>\n",
              "      <button class=\"colab-df-convert\" onclick=\"convertToInteractive('df-c417df30-ae08-413c-b91a-cc651d5bb4f0')\"\n",
              "              title=\"Convert this dataframe to an interactive table.\"\n",
              "              style=\"display:none;\">\n",
              "        \n",
              "  <svg xmlns=\"http://www.w3.org/2000/svg\" height=\"24px\"viewBox=\"0 0 24 24\"\n",
              "       width=\"24px\">\n",
              "    <path d=\"M0 0h24v24H0V0z\" fill=\"none\"/>\n",
              "    <path d=\"M18.56 5.44l.94 2.06.94-2.06 2.06-.94-2.06-.94-.94-2.06-.94 2.06-2.06.94zm-11 1L8.5 8.5l.94-2.06 2.06-.94-2.06-.94L8.5 2.5l-.94 2.06-2.06.94zm10 10l.94 2.06.94-2.06 2.06-.94-2.06-.94-.94-2.06-.94 2.06-2.06.94z\"/><path d=\"M17.41 7.96l-1.37-1.37c-.4-.4-.92-.59-1.43-.59-.52 0-1.04.2-1.43.59L10.3 9.45l-7.72 7.72c-.78.78-.78 2.05 0 2.83L4 21.41c.39.39.9.59 1.41.59.51 0 1.02-.2 1.41-.59l7.78-7.78 2.81-2.81c.8-.78.8-2.07 0-2.86zM5.41 20L4 18.59l7.72-7.72 1.47 1.35L5.41 20z\"/>\n",
              "  </svg>\n",
              "      </button>\n",
              "      \n",
              "  <style>\n",
              "    .colab-df-container {\n",
              "      display:flex;\n",
              "      flex-wrap:wrap;\n",
              "      gap: 12px;\n",
              "    }\n",
              "\n",
              "    .colab-df-convert {\n",
              "      background-color: #E8F0FE;\n",
              "      border: none;\n",
              "      border-radius: 50%;\n",
              "      cursor: pointer;\n",
              "      display: none;\n",
              "      fill: #1967D2;\n",
              "      height: 32px;\n",
              "      padding: 0 0 0 0;\n",
              "      width: 32px;\n",
              "    }\n",
              "\n",
              "    .colab-df-convert:hover {\n",
              "      background-color: #E2EBFA;\n",
              "      box-shadow: 0px 1px 2px rgba(60, 64, 67, 0.3), 0px 1px 3px 1px rgba(60, 64, 67, 0.15);\n",
              "      fill: #174EA6;\n",
              "    }\n",
              "\n",
              "    [theme=dark] .colab-df-convert {\n",
              "      background-color: #3B4455;\n",
              "      fill: #D2E3FC;\n",
              "    }\n",
              "\n",
              "    [theme=dark] .colab-df-convert:hover {\n",
              "      background-color: #434B5C;\n",
              "      box-shadow: 0px 1px 3px 1px rgba(0, 0, 0, 0.15);\n",
              "      filter: drop-shadow(0px 1px 2px rgba(0, 0, 0, 0.3));\n",
              "      fill: #FFFFFF;\n",
              "    }\n",
              "  </style>\n",
              "\n",
              "      <script>\n",
              "        const buttonEl =\n",
              "          document.querySelector('#df-c417df30-ae08-413c-b91a-cc651d5bb4f0 button.colab-df-convert');\n",
              "        buttonEl.style.display =\n",
              "          google.colab.kernel.accessAllowed ? 'block' : 'none';\n",
              "\n",
              "        async function convertToInteractive(key) {\n",
              "          const element = document.querySelector('#df-c417df30-ae08-413c-b91a-cc651d5bb4f0');\n",
              "          const dataTable =\n",
              "            await google.colab.kernel.invokeFunction('convertToInteractive',\n",
              "                                                     [key], {});\n",
              "          if (!dataTable) return;\n",
              "\n",
              "          const docLinkHtml = 'Like what you see? Visit the ' +\n",
              "            '<a target=\"_blank\" href=https://colab.research.google.com/notebooks/data_table.ipynb>data table notebook</a>'\n",
              "            + ' to learn more about interactive tables.';\n",
              "          element.innerHTML = '';\n",
              "          dataTable['output_type'] = 'display_data';\n",
              "          await google.colab.output.renderOutput(dataTable, element);\n",
              "          const docLink = document.createElement('div');\n",
              "          docLink.innerHTML = docLinkHtml;\n",
              "          element.appendChild(docLink);\n",
              "        }\n",
              "      </script>\n",
              "    </div>\n",
              "  </div>\n",
              "  "
            ]
          },
          "metadata": {},
          "execution_count": 64
        }
      ],
      "source": [
        "data.drop_duplicates()"
      ]
    },
    {
      "cell_type": "markdown",
      "id": "d9862913",
      "metadata": {
        "id": "d9862913"
      },
      "source": [
        "### Parte 2"
      ]
    },
    {
      "cell_type": "markdown",
      "id": "7ffaa6f2-de37-4622-ab64-e2b8d8938956",
      "metadata": {
        "id": "7ffaa6f2-de37-4622-ab64-e2b8d8938956"
      },
      "source": [
        "#### Creacion de train, test y validacion\n",
        " \n",
        "* train size 55%\n",
        "* test size 30%\n",
        "* validation size 15%"
      ]
    },
    {
      "cell_type": "code",
      "execution_count": null,
      "id": "ffbefccc-78c0-4c0f-8383-657a1ea3a7da",
      "metadata": {
        "id": "ffbefccc-78c0-4c0f-8383-657a1ea3a7da"
      },
      "outputs": [],
      "source": [
        "trainSize=0.55\n",
        "testSize = 0.66"
      ]
    },
    {
      "cell_type": "code",
      "execution_count": null,
      "id": "041f7cb5-1a5d-4a7c-ba08-2f16e88312dc",
      "metadata": {
        "id": "041f7cb5-1a5d-4a7c-ba08-2f16e88312dc"
      },
      "outputs": [],
      "source": [
        "X = data.drop(columns = ['status']).copy()\n",
        "y = data['status']"
      ]
    },
    {
      "cell_type": "code",
      "execution_count": null,
      "id": "6f95a3d0-08dd-41f5-8b13-5a17c26c76c4",
      "metadata": {
        "id": "6f95a3d0-08dd-41f5-8b13-5a17c26c76c4"
      },
      "outputs": [],
      "source": [
        "Xtrain, Xtrem, ytrain, ytrem = train_test_split(X,y, train_size=trainSize,random_state=42)"
      ]
    },
    {
      "cell_type": "code",
      "execution_count": null,
      "id": "82bbc9d8-c388-4019-9140-6d919cd934ab",
      "metadata": {
        "id": "82bbc9d8-c388-4019-9140-6d919cd934ab"
      },
      "outputs": [],
      "source": [
        "Xvalidation, Xtest, yvalidation, ytest = train_test_split(Xtrem,ytrem, test_size=testSize,random_state=42)"
      ]
    },
    {
      "cell_type": "markdown",
      "id": "6380080e-ff4e-4202-aca0-5b00d9b7324a",
      "metadata": {
        "id": "6380080e-ff4e-4202-aca0-5b00d9b7324a"
      },
      "source": [
        "#### Guardado de dataset\n",
        "\n"
      ]
    },
    {
      "cell_type": "code",
      "execution_count": null,
      "id": "e17a15f2-eb1f-49bf-95d2-0f18dcda6542",
      "metadata": {
        "id": "e17a15f2-eb1f-49bf-95d2-0f18dcda6542"
      },
      "outputs": [],
      "source": [
        "trainData = Xtrain.copy()\n",
        "trainData['status'] = ytrain.tolist()\n",
        "trainData.reset_index(drop=True, inplace=True)\n",
        "trainData.to_csv('train_dataset.csv', index = False, encoding='utf-8')"
      ]
    },
    {
      "cell_type": "code",
      "execution_count": null,
      "id": "e8ddd43d-92cb-45df-8921-e5af7f646057",
      "metadata": {
        "id": "e8ddd43d-92cb-45df-8921-e5af7f646057"
      },
      "outputs": [],
      "source": [
        "validationData = Xvalidation.copy()\n",
        "validationData['status'] = yvalidation.tolist()\n",
        "validationData.reset_index(drop=True, inplace=True)\n",
        "validationData.to_csv('validation_dataset.csv', index = False, encoding='utf-8')"
      ]
    },
    {
      "cell_type": "code",
      "execution_count": null,
      "id": "b1c03f59-f89d-47e8-85fa-171ca4df4e55",
      "metadata": {
        "id": "b1c03f59-f89d-47e8-85fa-171ca4df4e55"
      },
      "outputs": [],
      "source": [
        "testData = Xtest.copy()\n",
        "testData['status'] = ytest.tolist()\n",
        "testData.reset_index(drop=True, inplace=True)\n",
        "testData.to_csv('test_dataset.csv', index = False, encoding='utf-8')"
      ]
    },
    {
      "cell_type": "markdown",
      "id": "cea261aa-74de-4104-b157-a6261626f7cd",
      "metadata": {
        "id": "cea261aa-74de-4104-b157-a6261626f7cd"
      },
      "source": [
        "#### Implementacion de Maching Learning"
      ]
    },
    {
      "cell_type": "markdown",
      "id": "d4d775cc-3419-44de-b158-796c16b7c6af",
      "metadata": {
        "id": "d4d775cc-3419-44de-b158-796c16b7c6af"
      },
      "source": [
        "\n",
        "* Matriz de confusión\n",
        "* Precision\n",
        "* Recall\n",
        "* F1 Score"
      ]
    },
    {
      "cell_type": "markdown",
      "id": "36a6a7a4",
      "metadata": {
        "id": "36a6a7a4"
      },
      "source": [
        "#### Creación del modelo"
      ]
    },
    {
      "cell_type": "code",
      "execution_count": null,
      "id": "effada77",
      "metadata": {
        "id": "effada77"
      },
      "outputs": [],
      "source": [
        "rf = RandomForestClassifier(n_estimators = 1000, random_state = 42)"
      ]
    },
    {
      "cell_type": "code",
      "execution_count": null,
      "id": "dc5b9f29",
      "metadata": {
        "colab": {
          "base_uri": "https://localhost:8080/"
        },
        "id": "dc5b9f29",
        "outputId": "c38c868b-0418-4a74-947d-e73560c9075a"
      },
      "outputs": [
        {
          "output_type": "execute_result",
          "data": {
            "text/plain": [
              "RandomForestClassifier(n_estimators=1000, random_state=42)"
            ]
          },
          "metadata": {},
          "execution_count": 74
        }
      ],
      "source": [
        "rf.fit(Xtrain, ytrain)"
      ]
    },
    {
      "cell_type": "markdown",
      "id": "2724c3f7",
      "metadata": {
        "id": "2724c3f7"
      },
      "source": [
        "#### Validación"
      ]
    },
    {
      "cell_type": "code",
      "execution_count": null,
      "id": "1efbe403",
      "metadata": {
        "colab": {
          "base_uri": "https://localhost:8080/"
        },
        "id": "1efbe403",
        "outputId": "067cd8d1-cff0-4101-8e4e-efa91efaa221"
      },
      "outputs": [
        {
          "output_type": "stream",
          "name": "stdout",
          "text": [
            "Matrix de confusión:  [[828  43]\n",
            " [ 37 840]]\n"
          ]
        }
      ],
      "source": [
        "predictions = rf.predict(Xvalidation)\n",
        "\n",
        "validationCM = confusion_matrix(yvalidation, predictions)\n",
        "validationRS = recall_score(yvalidation, predictions, average=None)\n",
        "validationPS = precision_score(yvalidation, predictions, average=None)\n",
        "validationF1S = f1_score(yvalidation, predictions, average=None)\n",
        "print(\"Matrix de confusión: \", validationCM)\n"
      ]
    },
    {
      "cell_type": "code",
      "execution_count": null,
      "id": "64cef97c",
      "metadata": {
        "colab": {
          "base_uri": "https://localhost:8080/"
        },
        "id": "64cef97c",
        "outputId": "78c8e241-2bd1-487d-e2cb-6fcf707c9beb"
      },
      "outputs": [
        {
          "output_type": "stream",
          "name": "stdout",
          "text": [
            "              precision    recall  f1-score   support\n",
            "\n",
            "       legit       0.96      0.95      0.95       871\n",
            "         dga       0.95      0.96      0.95       877\n",
            "\n",
            "    accuracy                           0.95      1748\n",
            "   macro avg       0.95      0.95      0.95      1748\n",
            "weighted avg       0.95      0.95      0.95      1748\n",
            "\n",
            "recall_score:  <function recall_score at 0x7f26f6f87550>\n",
            "precision_score:  <function precision_score at 0x7f26f6f874c0>\n",
            "f1_score:  <function f1_score at 0x7f26f6f87160>\n",
            "accuracy:  0.954233409610984\n"
          ]
        }
      ],
      "source": [
        "print(classification_report(yvalidation, predictions, target_names = [\"legit\", \"dga\"]))\n",
        "print(\"recall_score: \",recall_score)\n",
        "print(\"precision_score: \", precision_score)\n",
        "print(\"f1_score: \", f1_score)\n",
        "print(\"accuracy: \", accuracy_score(yvalidation, predictions))"
      ]
    },
    {
      "cell_type": "markdown",
      "id": "b57e8002",
      "metadata": {
        "id": "b57e8002"
      },
      "source": [
        "Podemos ver en base de los resultados, que en general todos los valores van rondando al rededor de 0.95, lo cual nos permite seguir con la validacion "
      ]
    },
    {
      "cell_type": "markdown",
      "id": "a6fbbaaf",
      "metadata": {
        "id": "a6fbbaaf"
      },
      "source": [
        "#### Predicciones finales"
      ]
    },
    {
      "cell_type": "code",
      "execution_count": null,
      "id": "fc7a6baf",
      "metadata": {
        "id": "fc7a6baf"
      },
      "outputs": [],
      "source": [
        "predictions = rf.predict(Xtest)"
      ]
    },
    {
      "cell_type": "code",
      "execution_count": null,
      "id": "8fc12e18",
      "metadata": {
        "id": "8fc12e18"
      },
      "outputs": [],
      "source": [
        "CM = confusion_matrix(ytest, predictions)\n",
        "RS = recall_score(ytest, predictions, average=None)\n",
        "PS = precision_score(ytest, predictions, average=None)\n",
        "F1S = f1_score(ytest, predictions, average=None)"
      ]
    },
    {
      "cell_type": "code",
      "execution_count": null,
      "id": "9f72bb9f",
      "metadata": {
        "colab": {
          "base_uri": "https://localhost:8080/"
        },
        "id": "9f72bb9f",
        "outputId": "a84d1fdb-e62a-4c81-b927-b12cc6762af8"
      },
      "outputs": [
        {
          "output_type": "stream",
          "name": "stdout",
          "text": [
            "Matrix de confusión\n"
          ]
        },
        {
          "output_type": "execute_result",
          "data": {
            "text/plain": [
              "array([[1601,   95],\n",
              "       [  91, 1609]])"
            ]
          },
          "metadata": {},
          "execution_count": 81
        }
      ],
      "source": [
        "print(\"Matrix de confusión\")\n",
        "CM"
      ]
    },
    {
      "cell_type": "code",
      "execution_count": null,
      "id": "81941876",
      "metadata": {
        "colab": {
          "base_uri": "https://localhost:8080/",
          "height": 88
        },
        "id": "81941876",
        "outputId": "cfa7570b-fe08-46b8-d642-fb5e641766fc"
      },
      "outputs": [
        {
          "output_type": "execute_result",
          "data": {
            "text/plain": [
              "'              precision    recall  f1-score   support\\n\\n       legit       0.95      0.94      0.95      1696\\n         dga       0.94      0.95      0.95      1700\\n\\n    accuracy                           0.95      3396\\n   macro avg       0.95      0.95      0.95      3396\\nweighted avg       0.95      0.95      0.95      3396\\n'"
            ],
            "application/vnd.google.colaboratory.intrinsic+json": {
              "type": "string"
            }
          },
          "metadata": {},
          "execution_count": 82
        }
      ],
      "source": [
        "classification_report(ytest, predictions, target_names = [\"legit\", \"dga\"])"
      ]
    },
    {
      "cell_type": "code",
      "execution_count": null,
      "id": "1d41da90",
      "metadata": {
        "colab": {
          "base_uri": "https://localhost:8080/"
        },
        "id": "1d41da90",
        "outputId": "bd308642-9854-4ffd-a67a-ec48f75ce9e7"
      },
      "outputs": [
        {
          "output_type": "stream",
          "name": "stdout",
          "text": [
            "recall_score\n"
          ]
        },
        {
          "output_type": "execute_result",
          "data": {
            "text/plain": [
              "array([0.94398585, 0.94647059])"
            ]
          },
          "metadata": {},
          "execution_count": 83
        }
      ],
      "source": [
        "print(\"recall_score\")\n",
        "RS"
      ]
    },
    {
      "cell_type": "code",
      "execution_count": null,
      "id": "d53a0554",
      "metadata": {
        "colab": {
          "base_uri": "https://localhost:8080/"
        },
        "id": "d53a0554",
        "outputId": "b5274279-3e0c-41fb-8363-c9a2be6ca942"
      },
      "outputs": [
        {
          "output_type": "stream",
          "name": "stdout",
          "text": [
            "precision_score\n"
          ]
        },
        {
          "output_type": "execute_result",
          "data": {
            "text/plain": [
              "array([0.94621749, 0.94424883])"
            ]
          },
          "metadata": {},
          "execution_count": 84
        }
      ],
      "source": [
        "print(\"precision_score\")\n",
        "PS"
      ]
    },
    {
      "cell_type": "code",
      "execution_count": null,
      "id": "e276a8b0",
      "metadata": {
        "colab": {
          "base_uri": "https://localhost:8080/"
        },
        "id": "e276a8b0",
        "outputId": "7bd6bebf-1fbf-4130-9b4c-8ec760580470"
      },
      "outputs": [
        {
          "output_type": "stream",
          "name": "stdout",
          "text": [
            "f1_score\n"
          ]
        },
        {
          "output_type": "execute_result",
          "data": {
            "text/plain": [
              "array([0.94510035, 0.9453584 ])"
            ]
          },
          "metadata": {},
          "execution_count": 85
        }
      ],
      "source": [
        "print(\"f1_score\")\n",
        "F1S"
      ]
    },
    {
      "cell_type": "code",
      "execution_count": null,
      "id": "860bb295",
      "metadata": {
        "colab": {
          "base_uri": "https://localhost:8080/"
        },
        "id": "860bb295",
        "outputId": "cfa259d8-58a1-4b65-ef45-81b4a423576a"
      },
      "outputs": [
        {
          "output_type": "stream",
          "name": "stdout",
          "text": [
            "Accuracy\n"
          ]
        },
        {
          "output_type": "execute_result",
          "data": {
            "text/plain": [
              "0.9452296819787986"
            ]
          },
          "metadata": {},
          "execution_count": 86
        }
      ],
      "source": [
        "print(\"Accuracy\")\n",
        "accuracy_score(ytest, predictions)"
      ]
    },
    {
      "cell_type": "markdown",
      "id": "f448fd4a-d181-495b-8468-63c350cb2d21",
      "metadata": {
        "id": "f448fd4a-d181-495b-8468-63c350cb2d21"
      },
      "source": [
        "#### Discusion"
      ]
    },
    {
      "cell_type": "markdown",
      "id": "c227eb56-fc6c-4b76-b560-5d320c6e8fc2",
      "metadata": {
        "id": "c227eb56-fc6c-4b76-b560-5d320c6e8fc2"
      },
      "source": [
        "#### 1. ¿Cuál es el impacto de clasificar un sitio legítimo como Pishing?\n",
        "- El impacto de realizar la clasificacion erronea de un sitio legitimo radica en que este probablemente seria bloqueado para los usuarios que lo requieren, provocando posibles problemas de operacion en la o las unidades de negocio de una organizacion.\n",
        "\n",
        "#### 2. ¿Cuál es el impacto de clasificar un sitio de Pishing como legítimo?\n",
        "- Clasificar erroneamente un sitio de phishing puede ser muy critico ya que se puede robar las credenciales de uno o muchos usuarios. Esto puede poner en riesgo informacion sensible. \n",
        "\n",
        "#### 3. En base a las respuestas anteriores, ¿Qué métrica elegiría para comparar modelos similares de clasificación de pishing?\n",
        "- Probablemente el recall sea la mejor opcion para obtener una metrica ya que con este podemos conocer la capacidad del modelo de encontrar casos de phishing.\n",
        "\n",
        "#### 4. ¿Qué modelo es mejor para la clasificación de Pishing? Justifique\n",
        "- Random Forest ha resultado ser muy efectivo para la tarea, sin embargo es probable que haya existencia de modelos mas habiles sin embargo estos no fueron probados. \n",
        "\n",
        "#### 5. En base a las métricas obtenidas ¿es necesaria la intervención de una persona humana para tomar la decisión final?\n",
        "- Basados en los resultados obtenidos creemos que no es necesaria la intervencion humana, ya que el porcentaje de error es bajo. No obstante, consideramos que el mejor complemento para esta implementacion planteada seria una base de educacion que permita al usuario identificar los posibles casos de phishing en caso de obtener un falso negativo. \n",
        "\n"
      ]
    }
  ],
  "metadata": {
    "kernelspec": {
      "display_name": "Python 3 (ipykernel)",
      "language": "python",
      "name": "python3"
    },
    "language_info": {
      "codemirror_mode": {
        "name": "ipython",
        "version": 3
      },
      "file_extension": ".py",
      "mimetype": "text/x-python",
      "name": "python",
      "nbconvert_exporter": "python",
      "pygments_lexer": "ipython3",
      "version": "3.9.13"
    },
    "colab": {
      "provenance": []
    }
  },
  "nbformat": 4,
  "nbformat_minor": 5
}