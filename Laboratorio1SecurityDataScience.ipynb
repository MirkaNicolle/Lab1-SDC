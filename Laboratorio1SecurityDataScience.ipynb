{
  "nbformat": 4,
  "nbformat_minor": 0,
  "metadata": {
    "colab": {
      "provenance": [],
      "authorship_tag": "ABX9TyNAFVCLA8ad4cuYYCkSwcnQ"
    },
    "kernelspec": {
      "name": "python3",
      "display_name": "Python 3"
    },
    "language_info": {
      "name": "python"
    }
  },
  "cells": [
    {
      "cell_type": "code",
      "execution_count": 82,
      "metadata": {
        "id": "LxvXyQO38IGZ"
      },
      "outputs": [],
      "source": [
        "import re\n",
        "import pandas as pd\n",
        "import pandas_profiling\n",
        "import numpy as np\n",
        "import matplotlib.pyplot as plt\n",
        "%matplotlib inline\n",
        "import seaborn as sns\n",
        "from sklearn import feature_extraction, tree, model_selection, metrics\n",
        "from sklearn.model_selection import train_test_split\n",
        "from urllib.parse import urlparse"
      ]
    },
    {
      "cell_type": "markdown",
      "source": [
        "####Funciones"
      ],
      "metadata": {
        "id": "hb1KCopW_cBl"
      }
    },
    {
      "cell_type": "code",
      "source": [
        "def informacionURL(url):\n",
        "    URL = urlparse(url)\n",
        "    return URL.hostname, URL.scheme\n",
        "\n",
        "def conteo(a):\n",
        "    return lambda s: sum(s.count(x) for x in a)"
      ],
      "metadata": {
        "id": "4WDx1rZh_bYm"
      },
      "execution_count": 83,
      "outputs": []
    },
    {
      "cell_type": "markdown",
      "source": [],
      "metadata": {
        "id": "Pn6BkOoYDsOL"
      }
    },
    {
      "cell_type": "code",
      "source": [
        "data = pd.read_csv('dataset_pishing.csv')"
      ],
      "metadata": {
        "id": "USOOOznH865H"
      },
      "execution_count": 84,
      "outputs": []
    },
    {
      "cell_type": "markdown",
      "source": [
        "####Info del dataset"
      ],
      "metadata": {
        "id": "fbMK5pKR-iq7"
      }
    },
    {
      "cell_type": "code",
      "source": [
        "data.info"
      ],
      "metadata": {
        "colab": {
          "base_uri": "https://localhost:8080/"
        },
        "id": "HQiGTLQN9KU7",
        "outputId": "8953b7e2-ae02-4db0-d382-c903e8dba79d"
      },
      "execution_count": 85,
      "outputs": [
        {
          "output_type": "execute_result",
          "data": {
            "text/plain": [
              "<bound method DataFrame.info of                                                      url  ip  nb_www  nb_com  \\\n",
              "0                  http://www.crestonwood.com/router.php   0       1       0   \n",
              "1      http://shadetreetechnology.com/V4/validation/a...   1       0       0   \n",
              "2      https://support-appleld.com.secureupdate.duila...   1       0       1   \n",
              "3                                     http://rgipt.ac.in   0       0       0   \n",
              "4      http://www.iracing.com/tracks/gateway-motorspo...   0       1       0   \n",
              "...                                                  ...  ..     ...     ...   \n",
              "11425      http://www.fontspace.com/category/blackletter   0       1       0   \n",
              "11426  http://www.budgetbots.com/server.php/Server%20...   0       1       1   \n",
              "11427  https://www.facebook.com/Interactive-Televisio...   1       1       0   \n",
              "11428             http://www.mypublicdomainpictures.com/   0       1       0   \n",
              "11429  http://174.139.46.123/ap/signin?openid.pape.ma...   1       1       0   \n",
              "\n",
              "       nb_dslash  http_in_path  punycode  port  tld_in_path  tld_in_subdomain  \\\n",
              "0              0             0         0     0            0                 0   \n",
              "1              0             0         0     0            0                 0   \n",
              "2              0             0         0     0            0                 1   \n",
              "3              0             0         0     0            0                 0   \n",
              "4              0             0         0     0            0                 0   \n",
              "...          ...           ...       ...   ...          ...               ...   \n",
              "11425          0             0         0     0            0                 0   \n",
              "11426          0             0         0     0            1                 0   \n",
              "11427          0             0         0     0            0                 0   \n",
              "11428          0             0         0     0            0                 0   \n",
              "11429          0             4         0     0            1                 1   \n",
              "\n",
              "       ...  domain_in_title  domain_with_copyright  whois_registered_domain  \\\n",
              "0      ...                0                      1                        0   \n",
              "1      ...                1                      0                        0   \n",
              "2      ...                1                      0                        0   \n",
              "3      ...                1                      0                        0   \n",
              "4      ...                0                      1                        0   \n",
              "...    ...              ...                    ...                      ...   \n",
              "11425  ...                0                      0                        0   \n",
              "11426  ...                1                      0                        0   \n",
              "11427  ...                0                      0                        0   \n",
              "11428  ...                1                      0                        0   \n",
              "11429  ...                1                      1                        1   \n",
              "\n",
              "       domain_registration_length  domain_age  web_traffic  dns_record  \\\n",
              "0                              45          -1            0           1   \n",
              "1                              77        5767            0           0   \n",
              "2                              14        4004      5828815           0   \n",
              "3                              62          -1       107721           0   \n",
              "4                             224        8175         8725           0   \n",
              "...                           ...         ...          ...         ...   \n",
              "11425                         448        5396         3980           0   \n",
              "11426                         211        6728            0           0   \n",
              "11427                        2809        8515            8           0   \n",
              "11428                          85        2836      2455493           0   \n",
              "11429                           0          -1            0           1   \n",
              "\n",
              "       google_index  page_rank      status  \n",
              "0                 1          4  legitimate  \n",
              "1                 1          2    phishing  \n",
              "2                 1          0    phishing  \n",
              "3                 0          3  legitimate  \n",
              "4                 0          6  legitimate  \n",
              "...             ...        ...         ...  \n",
              "11425             0          6  legitimate  \n",
              "11426             1          0    phishing  \n",
              "11427             1         10  legitimate  \n",
              "11428             0          4  legitimate  \n",
              "11429             1          0    phishing  \n",
              "\n",
              "[11430 rows x 67 columns]>"
            ]
          },
          "metadata": {},
          "execution_count": 85
        }
      ]
    },
    {
      "cell_type": "code",
      "source": [
        "data.columns"
      ],
      "metadata": {
        "colab": {
          "base_uri": "https://localhost:8080/"
        },
        "id": "FfLlgxvh9ZuT",
        "outputId": "76c29ec2-65f8-459c-a837-d712d949137b"
      },
      "execution_count": 86,
      "outputs": [
        {
          "output_type": "execute_result",
          "data": {
            "text/plain": [
              "Index(['url', 'ip', 'nb_www', 'nb_com', 'nb_dslash', 'http_in_path',\n",
              "       'punycode', 'port', 'tld_in_path', 'tld_in_subdomain',\n",
              "       'abnormal_subdomain', 'nb_subdomains', 'prefix_suffix', 'random_domain',\n",
              "       'shortening_service', 'path_extension', 'nb_redirection',\n",
              "       'nb_external_redirection', 'length_words_raw', 'char_repeat',\n",
              "       'shortest_words_raw', 'shortest_word_host', 'shortest_word_path',\n",
              "       'longest_words_raw', 'longest_word_host', 'longest_word_path',\n",
              "       'avg_words_raw', 'avg_word_host', 'avg_word_path', 'phish_hints',\n",
              "       'domain_in_brand', 'brand_in_subdomain', 'brand_in_path',\n",
              "       'suspecious_tld', 'statistical_report', 'nb_hyperlinks',\n",
              "       'ratio_intHyperlinks', 'ratio_extHyperlinks', 'ratio_nullHyperlinks',\n",
              "       'nb_extCSS', 'ratio_intRedirection', 'ratio_extRedirection',\n",
              "       'ratio_intErrors', 'ratio_extErrors', 'login_form', 'external_favicon',\n",
              "       'links_in_tags', 'submit_email', 'ratio_intMedia', 'ratio_extMedia',\n",
              "       'sfh', 'iframe', 'popup_window', 'safe_anchor', 'onmouseover',\n",
              "       'right_clic', 'empty_title', 'domain_in_title', 'domain_with_copyright',\n",
              "       'whois_registered_domain', 'domain_registration_length', 'domain_age',\n",
              "       'web_traffic', 'dns_record', 'google_index', 'page_rank', 'status'],\n",
              "      dtype='object')"
            ]
          },
          "metadata": {},
          "execution_count": 86
        }
      ]
    },
    {
      "cell_type": "markdown",
      "source": [
        "#### Ejemplo 5 observaciones del dataset"
      ],
      "metadata": {
        "id": "gj9Rubc_-Wfe"
      }
    },
    {
      "cell_type": "code",
      "source": [
        "data.head()"
      ],
      "metadata": {
        "colab": {
          "base_uri": "https://localhost:8080/",
          "height": 334
        },
        "id": "PlhZSIEi9EQn",
        "outputId": "51dcfb4d-a6dd-4905-c2d5-fc1428a11dda"
      },
      "execution_count": 87,
      "outputs": [
        {
          "output_type": "execute_result",
          "data": {
            "text/plain": [
              "                                                 url  ip  nb_www  nb_com  \\\n",
              "0              http://www.crestonwood.com/router.php   0       1       0   \n",
              "1  http://shadetreetechnology.com/V4/validation/a...   1       0       0   \n",
              "2  https://support-appleld.com.secureupdate.duila...   1       0       1   \n",
              "3                                 http://rgipt.ac.in   0       0       0   \n",
              "4  http://www.iracing.com/tracks/gateway-motorspo...   0       1       0   \n",
              "\n",
              "   nb_dslash  http_in_path  punycode  port  tld_in_path  tld_in_subdomain  \\\n",
              "0          0             0         0     0            0                 0   \n",
              "1          0             0         0     0            0                 0   \n",
              "2          0             0         0     0            0                 1   \n",
              "3          0             0         0     0            0                 0   \n",
              "4          0             0         0     0            0                 0   \n",
              "\n",
              "   ...  domain_in_title  domain_with_copyright  whois_registered_domain  \\\n",
              "0  ...                0                      1                        0   \n",
              "1  ...                1                      0                        0   \n",
              "2  ...                1                      0                        0   \n",
              "3  ...                1                      0                        0   \n",
              "4  ...                0                      1                        0   \n",
              "\n",
              "   domain_registration_length  domain_age  web_traffic  dns_record  \\\n",
              "0                          45          -1            0           1   \n",
              "1                          77        5767            0           0   \n",
              "2                          14        4004      5828815           0   \n",
              "3                          62          -1       107721           0   \n",
              "4                         224        8175         8725           0   \n",
              "\n",
              "   google_index  page_rank      status  \n",
              "0             1          4  legitimate  \n",
              "1             1          2    phishing  \n",
              "2             1          0    phishing  \n",
              "3             0          3  legitimate  \n",
              "4             0          6  legitimate  \n",
              "\n",
              "[5 rows x 67 columns]"
            ],
            "text/html": [
              "\n",
              "  <div id=\"df-2af1cab0-7253-44d9-ab89-4f3bd7d40283\">\n",
              "    <div class=\"colab-df-container\">\n",
              "      <div>\n",
              "<style scoped>\n",
              "    .dataframe tbody tr th:only-of-type {\n",
              "        vertical-align: middle;\n",
              "    }\n",
              "\n",
              "    .dataframe tbody tr th {\n",
              "        vertical-align: top;\n",
              "    }\n",
              "\n",
              "    .dataframe thead th {\n",
              "        text-align: right;\n",
              "    }\n",
              "</style>\n",
              "<table border=\"1\" class=\"dataframe\">\n",
              "  <thead>\n",
              "    <tr style=\"text-align: right;\">\n",
              "      <th></th>\n",
              "      <th>url</th>\n",
              "      <th>ip</th>\n",
              "      <th>nb_www</th>\n",
              "      <th>nb_com</th>\n",
              "      <th>nb_dslash</th>\n",
              "      <th>http_in_path</th>\n",
              "      <th>punycode</th>\n",
              "      <th>port</th>\n",
              "      <th>tld_in_path</th>\n",
              "      <th>tld_in_subdomain</th>\n",
              "      <th>...</th>\n",
              "      <th>domain_in_title</th>\n",
              "      <th>domain_with_copyright</th>\n",
              "      <th>whois_registered_domain</th>\n",
              "      <th>domain_registration_length</th>\n",
              "      <th>domain_age</th>\n",
              "      <th>web_traffic</th>\n",
              "      <th>dns_record</th>\n",
              "      <th>google_index</th>\n",
              "      <th>page_rank</th>\n",
              "      <th>status</th>\n",
              "    </tr>\n",
              "  </thead>\n",
              "  <tbody>\n",
              "    <tr>\n",
              "      <th>0</th>\n",
              "      <td>http://www.crestonwood.com/router.php</td>\n",
              "      <td>0</td>\n",
              "      <td>1</td>\n",
              "      <td>0</td>\n",
              "      <td>0</td>\n",
              "      <td>0</td>\n",
              "      <td>0</td>\n",
              "      <td>0</td>\n",
              "      <td>0</td>\n",
              "      <td>0</td>\n",
              "      <td>...</td>\n",
              "      <td>0</td>\n",
              "      <td>1</td>\n",
              "      <td>0</td>\n",
              "      <td>45</td>\n",
              "      <td>-1</td>\n",
              "      <td>0</td>\n",
              "      <td>1</td>\n",
              "      <td>1</td>\n",
              "      <td>4</td>\n",
              "      <td>legitimate</td>\n",
              "    </tr>\n",
              "    <tr>\n",
              "      <th>1</th>\n",
              "      <td>http://shadetreetechnology.com/V4/validation/a...</td>\n",
              "      <td>1</td>\n",
              "      <td>0</td>\n",
              "      <td>0</td>\n",
              "      <td>0</td>\n",
              "      <td>0</td>\n",
              "      <td>0</td>\n",
              "      <td>0</td>\n",
              "      <td>0</td>\n",
              "      <td>0</td>\n",
              "      <td>...</td>\n",
              "      <td>1</td>\n",
              "      <td>0</td>\n",
              "      <td>0</td>\n",
              "      <td>77</td>\n",
              "      <td>5767</td>\n",
              "      <td>0</td>\n",
              "      <td>0</td>\n",
              "      <td>1</td>\n",
              "      <td>2</td>\n",
              "      <td>phishing</td>\n",
              "    </tr>\n",
              "    <tr>\n",
              "      <th>2</th>\n",
              "      <td>https://support-appleld.com.secureupdate.duila...</td>\n",
              "      <td>1</td>\n",
              "      <td>0</td>\n",
              "      <td>1</td>\n",
              "      <td>0</td>\n",
              "      <td>0</td>\n",
              "      <td>0</td>\n",
              "      <td>0</td>\n",
              "      <td>0</td>\n",
              "      <td>1</td>\n",
              "      <td>...</td>\n",
              "      <td>1</td>\n",
              "      <td>0</td>\n",
              "      <td>0</td>\n",
              "      <td>14</td>\n",
              "      <td>4004</td>\n",
              "      <td>5828815</td>\n",
              "      <td>0</td>\n",
              "      <td>1</td>\n",
              "      <td>0</td>\n",
              "      <td>phishing</td>\n",
              "    </tr>\n",
              "    <tr>\n",
              "      <th>3</th>\n",
              "      <td>http://rgipt.ac.in</td>\n",
              "      <td>0</td>\n",
              "      <td>0</td>\n",
              "      <td>0</td>\n",
              "      <td>0</td>\n",
              "      <td>0</td>\n",
              "      <td>0</td>\n",
              "      <td>0</td>\n",
              "      <td>0</td>\n",
              "      <td>0</td>\n",
              "      <td>...</td>\n",
              "      <td>1</td>\n",
              "      <td>0</td>\n",
              "      <td>0</td>\n",
              "      <td>62</td>\n",
              "      <td>-1</td>\n",
              "      <td>107721</td>\n",
              "      <td>0</td>\n",
              "      <td>0</td>\n",
              "      <td>3</td>\n",
              "      <td>legitimate</td>\n",
              "    </tr>\n",
              "    <tr>\n",
              "      <th>4</th>\n",
              "      <td>http://www.iracing.com/tracks/gateway-motorspo...</td>\n",
              "      <td>0</td>\n",
              "      <td>1</td>\n",
              "      <td>0</td>\n",
              "      <td>0</td>\n",
              "      <td>0</td>\n",
              "      <td>0</td>\n",
              "      <td>0</td>\n",
              "      <td>0</td>\n",
              "      <td>0</td>\n",
              "      <td>...</td>\n",
              "      <td>0</td>\n",
              "      <td>1</td>\n",
              "      <td>0</td>\n",
              "      <td>224</td>\n",
              "      <td>8175</td>\n",
              "      <td>8725</td>\n",
              "      <td>0</td>\n",
              "      <td>0</td>\n",
              "      <td>6</td>\n",
              "      <td>legitimate</td>\n",
              "    </tr>\n",
              "  </tbody>\n",
              "</table>\n",
              "<p>5 rows × 67 columns</p>\n",
              "</div>\n",
              "      <button class=\"colab-df-convert\" onclick=\"convertToInteractive('df-2af1cab0-7253-44d9-ab89-4f3bd7d40283')\"\n",
              "              title=\"Convert this dataframe to an interactive table.\"\n",
              "              style=\"display:none;\">\n",
              "        \n",
              "  <svg xmlns=\"http://www.w3.org/2000/svg\" height=\"24px\"viewBox=\"0 0 24 24\"\n",
              "       width=\"24px\">\n",
              "    <path d=\"M0 0h24v24H0V0z\" fill=\"none\"/>\n",
              "    <path d=\"M18.56 5.44l.94 2.06.94-2.06 2.06-.94-2.06-.94-.94-2.06-.94 2.06-2.06.94zm-11 1L8.5 8.5l.94-2.06 2.06-.94-2.06-.94L8.5 2.5l-.94 2.06-2.06.94zm10 10l.94 2.06.94-2.06 2.06-.94-2.06-.94-.94-2.06-.94 2.06-2.06.94z\"/><path d=\"M17.41 7.96l-1.37-1.37c-.4-.4-.92-.59-1.43-.59-.52 0-1.04.2-1.43.59L10.3 9.45l-7.72 7.72c-.78.78-.78 2.05 0 2.83L4 21.41c.39.39.9.59 1.41.59.51 0 1.02-.2 1.41-.59l7.78-7.78 2.81-2.81c.8-.78.8-2.07 0-2.86zM5.41 20L4 18.59l7.72-7.72 1.47 1.35L5.41 20z\"/>\n",
              "  </svg>\n",
              "      </button>\n",
              "      \n",
              "  <style>\n",
              "    .colab-df-container {\n",
              "      display:flex;\n",
              "      flex-wrap:wrap;\n",
              "      gap: 12px;\n",
              "    }\n",
              "\n",
              "    .colab-df-convert {\n",
              "      background-color: #E8F0FE;\n",
              "      border: none;\n",
              "      border-radius: 50%;\n",
              "      cursor: pointer;\n",
              "      display: none;\n",
              "      fill: #1967D2;\n",
              "      height: 32px;\n",
              "      padding: 0 0 0 0;\n",
              "      width: 32px;\n",
              "    }\n",
              "\n",
              "    .colab-df-convert:hover {\n",
              "      background-color: #E2EBFA;\n",
              "      box-shadow: 0px 1px 2px rgba(60, 64, 67, 0.3), 0px 1px 3px 1px rgba(60, 64, 67, 0.15);\n",
              "      fill: #174EA6;\n",
              "    }\n",
              "\n",
              "    [theme=dark] .colab-df-convert {\n",
              "      background-color: #3B4455;\n",
              "      fill: #D2E3FC;\n",
              "    }\n",
              "\n",
              "    [theme=dark] .colab-df-convert:hover {\n",
              "      background-color: #434B5C;\n",
              "      box-shadow: 0px 1px 3px 1px rgba(0, 0, 0, 0.15);\n",
              "      filter: drop-shadow(0px 1px 2px rgba(0, 0, 0, 0.3));\n",
              "      fill: #FFFFFF;\n",
              "    }\n",
              "  </style>\n",
              "\n",
              "      <script>\n",
              "        const buttonEl =\n",
              "          document.querySelector('#df-2af1cab0-7253-44d9-ab89-4f3bd7d40283 button.colab-df-convert');\n",
              "        buttonEl.style.display =\n",
              "          google.colab.kernel.accessAllowed ? 'block' : 'none';\n",
              "\n",
              "        async function convertToInteractive(key) {\n",
              "          const element = document.querySelector('#df-2af1cab0-7253-44d9-ab89-4f3bd7d40283');\n",
              "          const dataTable =\n",
              "            await google.colab.kernel.invokeFunction('convertToInteractive',\n",
              "                                                     [key], {});\n",
              "          if (!dataTable) return;\n",
              "\n",
              "          const docLinkHtml = 'Like what you see? Visit the ' +\n",
              "            '<a target=\"_blank\" href=https://colab.research.google.com/notebooks/data_table.ipynb>data table notebook</a>'\n",
              "            + ' to learn more about interactive tables.';\n",
              "          element.innerHTML = '';\n",
              "          dataTable['output_type'] = 'display_data';\n",
              "          await google.colab.output.renderOutput(dataTable, element);\n",
              "          const docLink = document.createElement('div');\n",
              "          docLink.innerHTML = docLinkHtml;\n",
              "          element.appendChild(docLink);\n",
              "        }\n",
              "      </script>\n",
              "    </div>\n",
              "  </div>\n",
              "  "
            ]
          },
          "metadata": {},
          "execution_count": 87
        }
      ]
    },
    {
      "cell_type": "markdown",
      "source": [
        "####Cantidad de observaciones etiquetadas en la columna \"status\""
      ],
      "metadata": {
        "id": "SD0vTrVu-vGQ"
      }
    },
    {
      "cell_type": "code",
      "source": [
        "data['status'].value_counts()"
      ],
      "metadata": {
        "colab": {
          "base_uri": "https://localhost:8080/"
        },
        "id": "L4Ytjptp9q_J",
        "outputId": "36ef0c12-9878-4172-bde9-87013c69131d"
      },
      "execution_count": 88,
      "outputs": [
        {
          "output_type": "execute_result",
          "data": {
            "text/plain": [
              "legitimate    5715\n",
              "phishing      5715\n",
              "Name: status, dtype: int64"
            ]
          },
          "metadata": {},
          "execution_count": 88
        }
      ]
    },
    {
      "cell_type": "markdown",
      "source": [
        "#### Derivacion de caracteristicas"
      ],
      "metadata": {
        "id": "hTioUHdI_KXD"
      }
    },
    {
      "cell_type": "markdown",
      "source": [
        "#### F1"
      ],
      "metadata": {
        "id": "0gKk3yZD_OCn"
      }
    },
    {
      "cell_type": "code",
      "source": [
        "data['url_len'] = data['url'].apply(len)\n",
        "data['url_len']"
      ],
      "metadata": {
        "colab": {
          "base_uri": "https://localhost:8080/"
        },
        "id": "rPKiwCgs_Noa",
        "outputId": "3054d671-2003-4c95-aff3-a82cd9ad1f4c"
      },
      "execution_count": 89,
      "outputs": [
        {
          "output_type": "execute_result",
          "data": {
            "text/plain": [
              "0         37\n",
              "1         77\n",
              "2        126\n",
              "3         18\n",
              "4         55\n",
              "        ... \n",
              "11425     45\n",
              "11426     84\n",
              "11427    105\n",
              "11428     38\n",
              "11429    477\n",
              "Name: url_len, Length: 11430, dtype: int64"
            ]
          },
          "metadata": {},
          "execution_count": 89
        }
      ]
    },
    {
      "cell_type": "markdown",
      "source": [
        "####F2"
      ],
      "metadata": {
        "id": "7RoV6hDN_VrS"
      }
    },
    {
      "cell_type": "code",
      "source": [
        "data['hostname'], data['scheme'] = zip(*data['url'].apply(informacionURL)) # scheme for f25\n",
        "data['hostname_len'] = data['hostname'].apply(len)"
      ],
      "metadata": {
        "id": "TkjTwIFdAqSX"
      },
      "execution_count": 90,
      "outputs": []
    },
    {
      "cell_type": "code",
      "source": [
        "data['hostname']"
      ],
      "metadata": {
        "colab": {
          "base_uri": "https://localhost:8080/"
        },
        "id": "lIKPPHSYAzwb",
        "outputId": "1484fe39-754b-4813-ec33-cd3a2edd806f"
      },
      "execution_count": 91,
      "outputs": [
        {
          "output_type": "execute_result",
          "data": {
            "text/plain": [
              "0                                      www.crestonwood.com\n",
              "1                                  shadetreetechnology.com\n",
              "2        support-appleld.com.secureupdate.duilawyeryork...\n",
              "3                                              rgipt.ac.in\n",
              "4                                          www.iracing.com\n",
              "                               ...                        \n",
              "11425                                    www.fontspace.com\n",
              "11426                                   www.budgetbots.com\n",
              "11427                                     www.facebook.com\n",
              "11428                       www.mypublicdomainpictures.com\n",
              "11429                                       174.139.46.123\n",
              "Name: hostname, Length: 11430, dtype: object"
            ]
          },
          "metadata": {},
          "execution_count": 91
        }
      ]
    },
    {
      "cell_type": "code",
      "source": [
        "data['hostname_len']"
      ],
      "metadata": {
        "colab": {
          "base_uri": "https://localhost:8080/"
        },
        "id": "1KMcYgoGA2hB",
        "outputId": "37fdcbd7-18ca-4016-d4e1-cbfce8f00f6c"
      },
      "execution_count": 92,
      "outputs": [
        {
          "output_type": "execute_result",
          "data": {
            "text/plain": [
              "0        19\n",
              "1        23\n",
              "2        50\n",
              "3        11\n",
              "4        15\n",
              "         ..\n",
              "11425    17\n",
              "11426    18\n",
              "11427    16\n",
              "11428    30\n",
              "11429    14\n",
              "Name: hostname_len, Length: 11430, dtype: int64"
            ]
          },
          "metadata": {},
          "execution_count": 92
        }
      ]
    },
    {
      "cell_type": "markdown",
      "source": [
        "#### F4 a F20"
      ],
      "metadata": {
        "id": "XmVAGNGUCBVZ"
      }
    },
    {
      "cell_type": "code",
      "source": [
        "caracteresEspeciales = ['.','-','@','?','&','|','=','_',' ̃','%','/','*',':',',',';','$']\n",
        "\n",
        "espacios = ['%20', ' ']\n",
        "\n",
        "\n",
        "for caracter in caracteresEspeciales:\n",
        "    data[f'{caracter}_count'] = data['url'].apply(conteo(caracter))\n",
        "\n",
        "data['space_count'] = data['url'].apply(conteo(espacios))\n"
      ],
      "metadata": {
        "id": "CJJGdpk6CA5L"
      },
      "execution_count": 93,
      "outputs": []
    },
    {
      "cell_type": "code",
      "source": [
        "data['space_count']"
      ],
      "metadata": {
        "colab": {
          "base_uri": "https://localhost:8080/"
        },
        "id": "7O5-tOuxDSeP",
        "outputId": "651d503b-0dae-49f3-ba11-de7cb52b0494"
      },
      "execution_count": 94,
      "outputs": [
        {
          "output_type": "execute_result",
          "data": {
            "text/plain": [
              "0        0\n",
              "1        0\n",
              "2        0\n",
              "3        0\n",
              "4        0\n",
              "        ..\n",
              "11425    0\n",
              "11426    1\n",
              "11427    0\n",
              "11428    0\n",
              "11429    0\n",
              "Name: space_count, Length: 11430, dtype: int64"
            ]
          },
          "metadata": {},
          "execution_count": 94
        }
      ]
    },
    {
      "cell_type": "markdown",
      "source": [
        "#### F25"
      ],
      "metadata": {
        "id": "iLZxXAY8ENej"
      }
    },
    {
      "cell_type": "code",
      "source": [
        "data['is_https'] = data['scheme'].apply(lambda scheme: int(scheme.lower() == 'https'))\n"
      ],
      "metadata": {
        "id": "-sEIOuy4DStS"
      },
      "execution_count": 95,
      "outputs": []
    },
    {
      "cell_type": "code",
      "source": [
        "data['is_https']"
      ],
      "metadata": {
        "colab": {
          "base_uri": "https://localhost:8080/"
        },
        "id": "TyfJXZ87EWIB",
        "outputId": "8b8e3373-cc76-4b29-fc54-f2741c32c93c"
      },
      "execution_count": 96,
      "outputs": [
        {
          "output_type": "execute_result",
          "data": {
            "text/plain": [
              "0        0\n",
              "1        0\n",
              "2        1\n",
              "3        0\n",
              "4        0\n",
              "        ..\n",
              "11425    0\n",
              "11426    0\n",
              "11427    1\n",
              "11428    0\n",
              "11429    0\n",
              "Name: is_https, Length: 11430, dtype: int64"
            ]
          },
          "metadata": {},
          "execution_count": 96
        }
      ]
    },
    {
      "cell_type": "markdown",
      "source": [
        "####F26 y F27"
      ],
      "metadata": {
        "id": "dbDUA-XoEbnZ"
      }
    },
    {
      "cell_type": "code",
      "source": [
        "radioDigitos = lambda s: sum(c.isdigit() for c in s) / sum(not c.isdigit() for c in s)\n",
        "data['digit_ratio_url'] = data['url'].apply(radioDigitos)"
      ],
      "metadata": {
        "id": "ayLXs5LLEbNk"
      },
      "execution_count": 97,
      "outputs": []
    },
    {
      "cell_type": "code",
      "source": [
        "data['digit_ratio_url']"
      ],
      "metadata": {
        "colab": {
          "base_uri": "https://localhost:8080/"
        },
        "id": "ur90_cf6EsyD",
        "outputId": "19f132d0-68ab-49f1-a561-832a36df37b2"
      },
      "execution_count": 98,
      "outputs": [
        {
          "output_type": "execute_result",
          "data": {
            "text/plain": [
              "0        0.000000\n",
              "1        0.283333\n",
              "2        0.177570\n",
              "3        0.000000\n",
              "4        0.000000\n",
              "           ...   \n",
              "11425    0.000000\n",
              "11426    0.024390\n",
              "11427    0.166667\n",
              "11428    0.000000\n",
              "11429    0.094037\n",
              "Name: digit_ratio_url, Length: 11430, dtype: float64"
            ]
          },
          "metadata": {},
          "execution_count": 98
        }
      ]
    },
    {
      "cell_type": "code",
      "source": [
        "data['digit_ratio_hostname'] = data['url'].apply(radioDigitos)"
      ],
      "metadata": {
        "id": "kpRQDtq1EwGE"
      },
      "execution_count": 99,
      "outputs": []
    },
    {
      "cell_type": "code",
      "source": [
        "data['digit_ratio_hostname']"
      ],
      "metadata": {
        "colab": {
          "base_uri": "https://localhost:8080/"
        },
        "id": "7VfHm2wzE1kL",
        "outputId": "b8c152f6-d034-4a2b-b7ca-c4ac0db880d7"
      },
      "execution_count": 100,
      "outputs": [
        {
          "output_type": "execute_result",
          "data": {
            "text/plain": [
              "0        0.000000\n",
              "1        0.283333\n",
              "2        0.177570\n",
              "3        0.000000\n",
              "4        0.000000\n",
              "           ...   \n",
              "11425    0.000000\n",
              "11426    0.024390\n",
              "11427    0.166667\n",
              "11428    0.000000\n",
              "11429    0.094037\n",
              "Name: digit_ratio_hostname, Length: 11430, dtype: float64"
            ]
          },
          "metadata": {},
          "execution_count": 100
        }
      ]
    },
    {
      "cell_type": "markdown",
      "source": [
        "####Preprocesamiento"
      ],
      "metadata": {
        "id": "Inu03BkSFDIQ"
      }
    },
    {
      "cell_type": "code",
      "source": [
        "data['status'] = np.where(data['status'] == 'phishing', 1, 0)"
      ],
      "metadata": {
        "id": "4XtZLR1AFCy4"
      },
      "execution_count": 101,
      "outputs": []
    },
    {
      "cell_type": "code",
      "source": [
        "data['status']"
      ],
      "metadata": {
        "colab": {
          "base_uri": "https://localhost:8080/"
        },
        "id": "kASmEvABFK4k",
        "outputId": "a4ec433e-1c9b-4d9e-9169-868ca117da61"
      },
      "execution_count": 102,
      "outputs": [
        {
          "output_type": "execute_result",
          "data": {
            "text/plain": [
              "0        0\n",
              "1        1\n",
              "2        1\n",
              "3        0\n",
              "4        0\n",
              "        ..\n",
              "11425    0\n",
              "11426    1\n",
              "11427    0\n",
              "11428    0\n",
              "11429    1\n",
              "Name: status, Length: 11430, dtype: int64"
            ]
          },
          "metadata": {},
          "execution_count": 102
        }
      ]
    },
    {
      "cell_type": "markdown",
      "source": [
        "####Pandas profiling"
      ],
      "metadata": {
        "id": "X687Ii4FFPFJ"
      }
    },
    {
      "cell_type": "code",
      "source": [
        "!pip install https://github.com/pandas-profiling/pandas-profiling/archive/master.zip"
      ],
      "metadata": {
        "id": "x9qEB3WyF4U_"
      },
      "execution_count": 103,
      "outputs": []
    },
    {
      "cell_type": "code",
      "source": [
        "from pandas_profiling import ProfileReport\n",
        "profile = pandas_profiling.ProfileReport(data)\n",
        "print(profile)"
      ],
      "metadata": {
        "colab": {
          "base_uri": "https://localhost:8080/",
          "height": 363
        },
        "id": "M0lml5DBFUEI",
        "outputId": "35b46975-afbf-49a3-914e-caa839c4442d"
      },
      "execution_count": 104,
      "outputs": [
        {
          "output_type": "error",
          "ename": "TypeError",
          "evalue": "ignored",
          "traceback": [
            "\u001b[0;31m---------------------------------------------------------------------------\u001b[0m",
            "\u001b[0;31mTypeError\u001b[0m                                 Traceback (most recent call last)",
            "\u001b[0;32m<ipython-input-104-23e3d2741427>\u001b[0m in \u001b[0;36m<module>\u001b[0;34m\u001b[0m\n\u001b[1;32m      1\u001b[0m \u001b[0;32mfrom\u001b[0m \u001b[0mpandas_profiling\u001b[0m \u001b[0;32mimport\u001b[0m \u001b[0mProfileReport\u001b[0m\u001b[0;34m\u001b[0m\u001b[0;34m\u001b[0m\u001b[0m\n\u001b[0;32m----> 2\u001b[0;31m \u001b[0mprofile\u001b[0m \u001b[0;34m=\u001b[0m \u001b[0mpandas_profiling\u001b[0m\u001b[0;34m.\u001b[0m\u001b[0mProfileReport\u001b[0m\u001b[0;34m(\u001b[0m\u001b[0mdata\u001b[0m\u001b[0;34m)\u001b[0m\u001b[0;34m\u001b[0m\u001b[0;34m\u001b[0m\u001b[0m\n\u001b[0m\u001b[1;32m      3\u001b[0m \u001b[0mprint\u001b[0m\u001b[0;34m(\u001b[0m\u001b[0mprofile\u001b[0m\u001b[0;34m)\u001b[0m\u001b[0;34m\u001b[0m\u001b[0;34m\u001b[0m\u001b[0m\n",
            "\u001b[0;32m/usr/local/lib/python3.8/dist-packages/pandas_profiling/__init__.py\u001b[0m in \u001b[0;36m__init__\u001b[0;34m(self, df, **kwargs)\u001b[0m\n",
            "\u001b[0;32m/usr/local/lib/python3.8/dist-packages/pandas_profiling/describe.py\u001b[0m in \u001b[0;36mdescribe\u001b[0;34m(df, bins, check_correlation, correlation_threshold, correlation_overrides, check_recoded, pool_size, **kwargs)\u001b[0m\n\u001b[1;32m    390\u001b[0m             \u001b[0;32mif\u001b[0m \u001b[0mname\u001b[0m \u001b[0;32mnot\u001b[0m \u001b[0;32min\u001b[0m \u001b[0mnames\u001b[0m\u001b[0;34m:\u001b[0m\u001b[0;34m\u001b[0m\u001b[0;34m\u001b[0m\u001b[0m\n\u001b[1;32m    391\u001b[0m                 \u001b[0mnames\u001b[0m\u001b[0;34m.\u001b[0m\u001b[0mappend\u001b[0m\u001b[0;34m(\u001b[0m\u001b[0mname\u001b[0m\u001b[0;34m)\u001b[0m\u001b[0;34m\u001b[0m\u001b[0;34m\u001b[0m\u001b[0m\n\u001b[0;32m--> 392\u001b[0;31m     \u001b[0mvariable_stats\u001b[0m \u001b[0;34m=\u001b[0m \u001b[0mpd\u001b[0m\u001b[0;34m.\u001b[0m\u001b[0mconcat\u001b[0m\u001b[0;34m(\u001b[0m\u001b[0mldesc\u001b[0m\u001b[0;34m,\u001b[0m \u001b[0mjoin_axes\u001b[0m\u001b[0;34m=\u001b[0m\u001b[0mpd\u001b[0m\u001b[0;34m.\u001b[0m\u001b[0mIndex\u001b[0m\u001b[0;34m(\u001b[0m\u001b[0;34m[\u001b[0m\u001b[0mnames\u001b[0m\u001b[0;34m]\u001b[0m\u001b[0;34m)\u001b[0m\u001b[0;34m,\u001b[0m \u001b[0maxis\u001b[0m\u001b[0;34m=\u001b[0m\u001b[0;36m1\u001b[0m\u001b[0;34m)\u001b[0m\u001b[0;34m\u001b[0m\u001b[0;34m\u001b[0m\u001b[0m\n\u001b[0m\u001b[1;32m    393\u001b[0m     \u001b[0mvariable_stats\u001b[0m\u001b[0;34m.\u001b[0m\u001b[0mcolumns\u001b[0m\u001b[0;34m.\u001b[0m\u001b[0mnames\u001b[0m \u001b[0;34m=\u001b[0m \u001b[0mdf\u001b[0m\u001b[0;34m.\u001b[0m\u001b[0mcolumns\u001b[0m\u001b[0;34m.\u001b[0m\u001b[0mnames\u001b[0m\u001b[0;34m\u001b[0m\u001b[0;34m\u001b[0m\u001b[0m\n\u001b[1;32m    394\u001b[0m \u001b[0;34m\u001b[0m\u001b[0m\n",
            "\u001b[0;32m/usr/local/lib/python3.8/dist-packages/pandas/util/_decorators.py\u001b[0m in \u001b[0;36mwrapper\u001b[0;34m(*args, **kwargs)\u001b[0m\n\u001b[1;32m    309\u001b[0m                     \u001b[0mstacklevel\u001b[0m\u001b[0;34m=\u001b[0m\u001b[0mstacklevel\u001b[0m\u001b[0;34m,\u001b[0m\u001b[0;34m\u001b[0m\u001b[0;34m\u001b[0m\u001b[0m\n\u001b[1;32m    310\u001b[0m                 )\n\u001b[0;32m--> 311\u001b[0;31m             \u001b[0;32mreturn\u001b[0m \u001b[0mfunc\u001b[0m\u001b[0;34m(\u001b[0m\u001b[0;34m*\u001b[0m\u001b[0margs\u001b[0m\u001b[0;34m,\u001b[0m \u001b[0;34m**\u001b[0m\u001b[0mkwargs\u001b[0m\u001b[0;34m)\u001b[0m\u001b[0;34m\u001b[0m\u001b[0;34m\u001b[0m\u001b[0m\n\u001b[0m\u001b[1;32m    312\u001b[0m \u001b[0;34m\u001b[0m\u001b[0m\n\u001b[1;32m    313\u001b[0m         \u001b[0;32mreturn\u001b[0m \u001b[0mwrapper\u001b[0m\u001b[0;34m\u001b[0m\u001b[0;34m\u001b[0m\u001b[0m\n",
            "\u001b[0;31mTypeError\u001b[0m: concat() got an unexpected keyword argument 'join_axes'"
          ]
        }
      ]
    },
    {
      "cell_type": "markdown",
      "source": [
        "#####Se intento solucionar el problema con pandas profiling, sin embargo se opto por realizar una solucion alterna como una matriz de correlacion"
      ],
      "metadata": {
        "id": "JrepgtAwI-gE"
      }
    },
    {
      "cell_type": "code",
      "source": [
        "sns.heatmap(data.corr())"
      ],
      "metadata": {
        "colab": {
          "base_uri": "https://localhost:8080/",
          "height": 548
        },
        "id": "q0A72JY9I-Dr",
        "outputId": "7f132e85-f6e3-46fc-9d8a-557afc9f8231"
      },
      "execution_count": 105,
      "outputs": [
        {
          "output_type": "execute_result",
          "data": {
            "text/plain": [
              "<matplotlib.axes._subplots.AxesSubplot at 0x7fe3d447b2b0>"
            ]
          },
          "metadata": {},
          "execution_count": 105
        },
        {
          "output_type": "display_data",
          "data": {
            "text/plain": [
              "<Figure size 800x550 with 2 Axes>"
            ],
            "image/png": "[encoded data removed]"
          },
          "metadata": {}
        }
      ]
    },
    {
      "cell_type": "markdown",
      "source": [
        "####Seleccion de caracteristicas"
      ],
      "metadata": {
        "id": "XQ27t1-aJg45"
      }
    },
    {
      "cell_type": "code",
      "source": [
        "df = data[['status','nb_www', 'phish_hints', 'nb_hyperlinks', 'length_words_raw', 'domain_in_title', 'ratio_intHyperlinks', 'ratio_extHyperlinks', 'domain_age', 'web_traffic', 'page_rank', 'url_len', 'hostname_len', 'space_count', 'digit_ratio_url']]\n",
        "df.drop_duplicates()"
      ],
      "metadata": {
        "colab": {
          "base_uri": "https://localhost:8080/",
          "height": 487
        },
        "id": "J_l5QDzbJjTy",
        "outputId": "c21d259f-d1cf-487c-8d79-940514c039b1"
      },
      "execution_count": 107,
      "outputs": [
        {
          "output_type": "execute_result",
          "data": {
            "text/plain": [
              "       status  nb_www  phish_hints  nb_hyperlinks  length_words_raw  \\\n",
              "0           0       1            0             17                 4   \n",
              "1           1       0            0             30                 4   \n",
              "2           1       0            0              4                12   \n",
              "3           0       0            0            149                 1   \n",
              "4           0       1            0            102                 6   \n",
              "...       ...     ...          ...            ...               ...   \n",
              "11425       0       1            0            199                 4   \n",
              "11426       1       1            0              3                12   \n",
              "11427       0       1            0             68                13   \n",
              "11428       0       1            0             32                 2   \n",
              "11429       1       1            3             21                90   \n",
              "\n",
              "       domain_in_title  ratio_intHyperlinks  ratio_extHyperlinks  domain_age  \\\n",
              "0                    0             0.529412             0.470588          -1   \n",
              "1                    1             0.966667             0.033333        5767   \n",
              "2                    1             1.000000             0.000000        4004   \n",
              "3                    1             0.973154             0.026846          -1   \n",
              "4                    0             0.470588             0.529412        8175   \n",
              "...                ...                  ...                  ...         ...   \n",
              "11425                0             0.884422             0.115578        5396   \n",
              "11426                1             1.000000             0.000000        6728   \n",
              "11427                0             0.470588             0.529412        8515   \n",
              "11428                1             0.375000             0.625000        2836   \n",
              "11429                1             0.428571             0.571429          -1   \n",
              "\n",
              "       web_traffic  page_rank  url_len  hostname_len  space_count  \\\n",
              "0                0          4       37            19            0   \n",
              "1                0          2       77            23            0   \n",
              "2          5828815          0      126            50            0   \n",
              "3           107721          3       18            11            0   \n",
              "4             8725          6       55            15            0   \n",
              "...            ...        ...      ...           ...          ...   \n",
              "11425         3980          6       45            17            0   \n",
              "11426            0          0       84            18            1   \n",
              "11427            8         10      105            16            0   \n",
              "11428      2455493          4       38            30            0   \n",
              "11429            0          0      477            14            0   \n",
              "\n",
              "       digit_ratio_url  \n",
              "0             0.000000  \n",
              "1             0.283333  \n",
              "2             0.177570  \n",
              "3             0.000000  \n",
              "4             0.000000  \n",
              "...                ...  \n",
              "11425         0.000000  \n",
              "11426         0.024390  \n",
              "11427         0.166667  \n",
              "11428         0.000000  \n",
              "11429         0.094037  \n",
              "\n",
              "[11027 rows x 15 columns]"
            ],
            "text/html": [
              "\n",
              "  <div id=\"df-35cac3d7-7e8f-4bc4-8ddb-b75e9f04b6eb\">\n",
              "    <div class=\"colab-df-container\">\n",
              "      <div>\n",
              "<style scoped>\n",
              "    .dataframe tbody tr th:only-of-type {\n",
              "        vertical-align: middle;\n",
              "    }\n",
              "\n",
              "    .dataframe tbody tr th {\n",
              "        vertical-align: top;\n",
              "    }\n",
              "\n",
              "    .dataframe thead th {\n",
              "        text-align: right;\n",
              "    }\n",
              "</style>\n",
              "<table border=\"1\" class=\"dataframe\">\n",
              "  <thead>\n",
              "    <tr style=\"text-align: right;\">\n",
              "      <th></th>\n",
              "      <th>status</th>\n",
              "      <th>nb_www</th>\n",
              "      <th>phish_hints</th>\n",
              "      <th>nb_hyperlinks</th>\n",
              "      <th>length_words_raw</th>\n",
              "      <th>domain_in_title</th>\n",
              "      <th>ratio_intHyperlinks</th>\n",
              "      <th>ratio_extHyperlinks</th>\n",
              "      <th>domain_age</th>\n",
              "      <th>web_traffic</th>\n",
              "      <th>page_rank</th>\n",
              "      <th>url_len</th>\n",
              "      <th>hostname_len</th>\n",
              "      <th>space_count</th>\n",
              "      <th>digit_ratio_url</th>\n",
              "    </tr>\n",
              "  </thead>\n",
              "  <tbody>\n",
              "    <tr>\n",
              "      <th>0</th>\n",
              "      <td>0</td>\n",
              "      <td>1</td>\n",
              "      <td>0</td>\n",
              "      <td>17</td>\n",
              "      <td>4</td>\n",
              "      <td>0</td>\n",
              "      <td>0.529412</td>\n",
              "      <td>0.470588</td>\n",
              "      <td>-1</td>\n",
              "      <td>0</td>\n",
              "      <td>4</td>\n",
              "      <td>37</td>\n",
              "      <td>19</td>\n",
              "      <td>0</td>\n",
              "      <td>0.000000</td>\n",
              "    </tr>\n",
              "    <tr>\n",
              "      <th>1</th>\n",
              "      <td>1</td>\n",
              "      <td>0</td>\n",
              "      <td>0</td>\n",
              "      <td>30</td>\n",
              "      <td>4</td>\n",
              "      <td>1</td>\n",
              "      <td>0.966667</td>\n",
              "      <td>0.033333</td>\n",
              "      <td>5767</td>\n",
              "      <td>0</td>\n",
              "      <td>2</td>\n",
              "      <td>77</td>\n",
              "      <td>23</td>\n",
              "      <td>0</td>\n",
              "      <td>0.283333</td>\n",
              "    </tr>\n",
              "    <tr>\n",
              "      <th>2</th>\n",
              "      <td>1</td>\n",
              "      <td>0</td>\n",
              "      <td>0</td>\n",
              "      <td>4</td>\n",
              "      <td>12</td>\n",
              "      <td>1</td>\n",
              "      <td>1.000000</td>\n",
              "      <td>0.000000</td>\n",
              "      <td>4004</td>\n",
              "      <td>5828815</td>\n",
              "      <td>0</td>\n",
              "      <td>126</td>\n",
              "      <td>50</td>\n",
              "      <td>0</td>\n",
              "      <td>0.177570</td>\n",
              "    </tr>\n",
              "    <tr>\n",
              "      <th>3</th>\n",
              "      <td>0</td>\n",
              "      <td>0</td>\n",
              "      <td>0</td>\n",
              "      <td>149</td>\n",
              "      <td>1</td>\n",
              "      <td>1</td>\n",
              "      <td>0.973154</td>\n",
              "      <td>0.026846</td>\n",
              "      <td>-1</td>\n",
              "      <td>107721</td>\n",
              "      <td>3</td>\n",
              "      <td>18</td>\n",
              "      <td>11</td>\n",
              "      <td>0</td>\n",
              "      <td>0.000000</td>\n",
              "    </tr>\n",
              "    <tr>\n",
              "      <th>4</th>\n",
              "      <td>0</td>\n",
              "      <td>1</td>\n",
              "      <td>0</td>\n",
              "      <td>102</td>\n",
              "      <td>6</td>\n",
              "      <td>0</td>\n",
              "      <td>0.470588</td>\n",
              "      <td>0.529412</td>\n",
              "      <td>8175</td>\n",
              "      <td>8725</td>\n",
              "      <td>6</td>\n",
              "      <td>55</td>\n",
              "      <td>15</td>\n",
              "      <td>0</td>\n",
              "      <td>0.000000</td>\n",
              "    </tr>\n",
              "    <tr>\n",
              "      <th>...</th>\n",
              "      <td>...</td>\n",
              "      <td>...</td>\n",
              "      <td>...</td>\n",
              "      <td>...</td>\n",
              "      <td>...</td>\n",
              "      <td>...</td>\n",
              "      <td>...</td>\n",
              "      <td>...</td>\n",
              "      <td>...</td>\n",
              "      <td>...</td>\n",
              "      <td>...</td>\n",
              "      <td>...</td>\n",
              "      <td>...</td>\n",
              "      <td>...</td>\n",
              "      <td>...</td>\n",
              "    </tr>\n",
              "    <tr>\n",
              "      <th>11425</th>\n",
              "      <td>0</td>\n",
              "      <td>1</td>\n",
              "      <td>0</td>\n",
              "      <td>199</td>\n",
              "      <td>4</td>\n",
              "      <td>0</td>\n",
              "      <td>0.884422</td>\n",
              "      <td>0.115578</td>\n",
              "      <td>5396</td>\n",
              "      <td>3980</td>\n",
              "      <td>6</td>\n",
              "      <td>45</td>\n",
              "      <td>17</td>\n",
              "      <td>0</td>\n",
              "      <td>0.000000</td>\n",
              "    </tr>\n",
              "    <tr>\n",
              "      <th>11426</th>\n",
              "      <td>1</td>\n",
              "      <td>1</td>\n",
              "      <td>0</td>\n",
              "      <td>3</td>\n",
              "      <td>12</td>\n",
              "      <td>1</td>\n",
              "      <td>1.000000</td>\n",
              "      <td>0.000000</td>\n",
              "      <td>6728</td>\n",
              "      <td>0</td>\n",
              "      <td>0</td>\n",
              "      <td>84</td>\n",
              "      <td>18</td>\n",
              "      <td>1</td>\n",
              "      <td>0.024390</td>\n",
              "    </tr>\n",
              "    <tr>\n",
              "      <th>11427</th>\n",
              "      <td>0</td>\n",
              "      <td>1</td>\n",
              "      <td>0</td>\n",
              "      <td>68</td>\n",
              "      <td>13</td>\n",
              "      <td>0</td>\n",
              "      <td>0.470588</td>\n",
              "      <td>0.529412</td>\n",
              "      <td>8515</td>\n",
              "      <td>8</td>\n",
              "      <td>10</td>\n",
              "      <td>105</td>\n",
              "      <td>16</td>\n",
              "      <td>0</td>\n",
              "      <td>0.166667</td>\n",
              "    </tr>\n",
              "    <tr>\n",
              "      <th>11428</th>\n",
              "      <td>0</td>\n",
              "      <td>1</td>\n",
              "      <td>0</td>\n",
              "      <td>32</td>\n",
              "      <td>2</td>\n",
              "      <td>1</td>\n",
              "      <td>0.375000</td>\n",
              "      <td>0.625000</td>\n",
              "      <td>2836</td>\n",
              "      <td>2455493</td>\n",
              "      <td>4</td>\n",
              "      <td>38</td>\n",
              "      <td>30</td>\n",
              "      <td>0</td>\n",
              "      <td>0.000000</td>\n",
              "    </tr>\n",
              "    <tr>\n",
              "      <th>11429</th>\n",
              "      <td>1</td>\n",
              "      <td>1</td>\n",
              "      <td>3</td>\n",
              "      <td>21</td>\n",
              "      <td>90</td>\n",
              "      <td>1</td>\n",
              "      <td>0.428571</td>\n",
              "      <td>0.571429</td>\n",
              "      <td>-1</td>\n",
              "      <td>0</td>\n",
              "      <td>0</td>\n",
              "      <td>477</td>\n",
              "      <td>14</td>\n",
              "      <td>0</td>\n",
              "      <td>0.094037</td>\n",
              "    </tr>\n",
              "  </tbody>\n",
              "</table>\n",
              "<p>11027 rows × 15 columns</p>\n",
              "</div>\n",
              "      <button class=\"colab-df-convert\" onclick=\"convertToInteractive('df-35cac3d7-7e8f-4bc4-8ddb-b75e9f04b6eb')\"\n",
              "              title=\"Convert this dataframe to an interactive table.\"\n",
              "              style=\"display:none;\">\n",
              "        \n",
              "  <svg xmlns=\"http://www.w3.org/2000/svg\" height=\"24px\"viewBox=\"0 0 24 24\"\n",
              "       width=\"24px\">\n",
              "    <path d=\"M0 0h24v24H0V0z\" fill=\"none\"/>\n",
              "    <path d=\"M18.56 5.44l.94 2.06.94-2.06 2.06-.94-2.06-.94-.94-2.06-.94 2.06-2.06.94zm-11 1L8.5 8.5l.94-2.06 2.06-.94-2.06-.94L8.5 2.5l-.94 2.06-2.06.94zm10 10l.94 2.06.94-2.06 2.06-.94-2.06-.94-.94-2.06-.94 2.06-2.06.94z\"/><path d=\"M17.41 7.96l-1.37-1.37c-.4-.4-.92-.59-1.43-.59-.52 0-1.04.2-1.43.59L10.3 9.45l-7.72 7.72c-.78.78-.78 2.05 0 2.83L4 21.41c.39.39.9.59 1.41.59.51 0 1.02-.2 1.41-.59l7.78-7.78 2.81-2.81c.8-.78.8-2.07 0-2.86zM5.41 20L4 18.59l7.72-7.72 1.47 1.35L5.41 20z\"/>\n",
              "  </svg>\n",
              "      </button>\n",
              "      \n",
              "  <style>\n",
              "    .colab-df-container {\n",
              "      display:flex;\n",
              "      flex-wrap:wrap;\n",
              "      gap: 12px;\n",
              "    }\n",
              "\n",
              "    .colab-df-convert {\n",
              "      background-color: #E8F0FE;\n",
              "      border: none;\n",
              "      border-radius: 50%;\n",
              "      cursor: pointer;\n",
              "      display: none;\n",
              "      fill: #1967D2;\n",
              "      height: 32px;\n",
              "      padding: 0 0 0 0;\n",
              "      width: 32px;\n",
              "    }\n",
              "\n",
              "    .colab-df-convert:hover {\n",
              "      background-color: #E2EBFA;\n",
              "      box-shadow: 0px 1px 2px rgba(60, 64, 67, 0.3), 0px 1px 3px 1px rgba(60, 64, 67, 0.15);\n",
              "      fill: #174EA6;\n",
              "    }\n",
              "\n",
              "    [theme=dark] .colab-df-convert {\n",
              "      background-color: #3B4455;\n",
              "      fill: #D2E3FC;\n",
              "    }\n",
              "\n",
              "    [theme=dark] .colab-df-convert:hover {\n",
              "      background-color: #434B5C;\n",
              "      box-shadow: 0px 1px 3px 1px rgba(0, 0, 0, 0.15);\n",
              "      filter: drop-shadow(0px 1px 2px rgba(0, 0, 0, 0.3));\n",
              "      fill: #FFFFFF;\n",
              "    }\n",
              "  </style>\n",
              "\n",
              "      <script>\n",
              "        const buttonEl =\n",
              "          document.querySelector('#df-35cac3d7-7e8f-4bc4-8ddb-b75e9f04b6eb button.colab-df-convert');\n",
              "        buttonEl.style.display =\n",
              "          google.colab.kernel.accessAllowed ? 'block' : 'none';\n",
              "\n",
              "        async function convertToInteractive(key) {\n",
              "          const element = document.querySelector('#df-35cac3d7-7e8f-4bc4-8ddb-b75e9f04b6eb');\n",
              "          const dataTable =\n",
              "            await google.colab.kernel.invokeFunction('convertToInteractive',\n",
              "                                                     [key], {});\n",
              "          if (!dataTable) return;\n",
              "\n",
              "          const docLinkHtml = 'Like what you see? Visit the ' +\n",
              "            '<a target=\"_blank\" href=https://colab.research.google.com/notebooks/data_table.ipynb>data table notebook</a>'\n",
              "            + ' to learn more about interactive tables.';\n",
              "          element.innerHTML = '';\n",
              "          dataTable['output_type'] = 'display_data';\n",
              "          await google.colab.output.renderOutput(dataTable, element);\n",
              "          const docLink = document.createElement('div');\n",
              "          docLink.innerHTML = docLinkHtml;\n",
              "          element.appendChild(docLink);\n",
              "        }\n",
              "      </script>\n",
              "    </div>\n",
              "  </div>\n",
              "  "
            ]
          },
          "metadata": {},
          "execution_count": 107
        }
      ]
    }
  ]
}